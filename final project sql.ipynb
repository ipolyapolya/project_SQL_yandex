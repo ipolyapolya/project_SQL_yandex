{
 "cells": [
  {
   "cell_type": "markdown",
   "id": "2f149832",
   "metadata": {
    "toc": true
   },
   "source": [
    "<h1>Table of Contents<span class=\"tocSkip\"></span></h1>\n",
    "<div class=\"toc\"><ul class=\"toc-item\"><li><span><a href=\"#Подключаемся-к-базе-данных-и-знакомимся-с-данными\" data-toc-modified-id=\"Подключаемся-к-базе-данных-и-знакомимся-с-данными-1\"><span class=\"toc-item-num\">1&nbsp;&nbsp;</span>Подключаемся к базе данных и знакомимся с данными</a></span></li><li><span><a href=\"#Задание-1\" data-toc-modified-id=\"Задание-1-2\"><span class=\"toc-item-num\">2&nbsp;&nbsp;</span>Задание 1</a></span></li><li><span><a href=\"#Задание-2\" data-toc-modified-id=\"Задание-2-3\"><span class=\"toc-item-num\">3&nbsp;&nbsp;</span>Задание 2</a></span></li><li><span><a href=\"#Задание-3\" data-toc-modified-id=\"Задание-3-4\"><span class=\"toc-item-num\">4&nbsp;&nbsp;</span>Задание 3</a></span></li><li><span><a href=\"#Задание-4\" data-toc-modified-id=\"Задание-4-5\"><span class=\"toc-item-num\">5&nbsp;&nbsp;</span>Задание 4</a></span></li><li><span><a href=\"#Задание-5\" data-toc-modified-id=\"Задание-5-6\"><span class=\"toc-item-num\">6&nbsp;&nbsp;</span>Задание 5</a></span></li><li><span><a href=\"#Выводы\" data-toc-modified-id=\"Выводы-7\"><span class=\"toc-item-num\">7&nbsp;&nbsp;</span>Выводы</a></span></li></ul></div>"
   ]
  },
  {
   "cell_type": "markdown",
   "id": "b9a24646",
   "metadata": {},
   "source": [
    "# Проект по SQL"
   ]
  },
  {
   "cell_type": "markdown",
   "id": "844db3a6",
   "metadata": {},
   "source": [
    "Компания решила быть на волне и купила крупный сервис для чтения книг по подписке. \n",
    "\n",
    "**Задача** — проанализировать базу данных, в которой содержится информация о книгах, издательствах, авторах, а также пользовательские обзоры книг. Эти данные помогут сформулировать ценностное предложение для нового продукта."
   ]
  },
  {
   "cell_type": "markdown",
   "id": "2efa5299",
   "metadata": {},
   "source": [
    "**Описание данных**\n",
    "\n",
    "**Таблица books**\n",
    "\n",
    "- book_id — идентификатор книги;\n",
    "- author_id — идентификатор автора;\n",
    "- title — название книги;\n",
    "- num_pages — количество страниц;\n",
    "- publication_date — дата публикации книги;\n",
    "- publisher_id — идентификатор издателя.\n",
    "\n",
    "**Таблица authors**\n",
    "- author_id — идентификатор автора;\n",
    "- author — имя автора.\n",
    "\n",
    "**Таблица publishers**\n",
    "- publisher_id — идентификатор издательства;\n",
    "- publisher — название издательства;\n",
    "\n",
    "**Таблица ratings**\n",
    "- rating_id — идентификатор оценки;\n",
    "- book_id — идентификатор книги;\n",
    "- username — имя пользователя, оставившего оценку;\n",
    "- rating — оценка книги.\n",
    "\n",
    "**Таблица reviews**\n",
    "- review_id — идентификатор обзора;\n",
    "- book_id — идентификатор книги;\n",
    "- username — имя пользователя, написавшего обзор;\n",
    "- text — текст обзора."
   ]
  },
  {
   "cell_type": "markdown",
   "id": "3d265458",
   "metadata": {},
   "source": [
    "**Задания**\n",
    "- Посчитайте, сколько книг вышло после 1 января 2000 года;\n",
    "- Для каждой книги посчитайте количество обзоров и среднюю оценку;\n",
    "- Определите издательство, которое выпустило наибольшее число книг толще 50 страниц — так вы исключите из анализа брошюры;\n",
    "- Определите автора с самой высокой средней оценкой книг — учитывайте только книги с 50 и более оценками;\n",
    "- Посчитайте среднее количество обзоров от пользователей, которые поставили больше 50 оценок."
   ]
  },
  {
   "cell_type": "markdown",
   "id": "5e701429",
   "metadata": {},
   "source": [
    "## Подключаемся к базе данных и знакомимся с данными"
   ]
  },
  {
   "cell_type": "code",
   "execution_count": 1,
   "id": "5d3e8587",
   "metadata": {},
   "outputs": [],
   "source": [
    "import pandas as pd\n",
    "from sqlalchemy import create_engine\n",
    "# устанавливаем параметры\n",
    "db_config = {'user': 'praktikum_student', # имя пользователя\n",
    "             'pwd': 'Sdf4$2;d-d30pp', # пароль\n",
    "             'host': 'rc1b-wcoijxj3yxfsf3fs.mdb.yandexcloud.net',\n",
    "             'port': 6432, # порт подключения\n",
    "             'db': 'data-analyst-final-project-db'} # название базы данных\n",
    "connection_string = 'postgresql://{}:{}@{}:{}/{}'.format(db_config['user'],\n",
    "                                                  db_config['pwd'],\n",
    "                                                  db_config['host'],\n",
    "                                                  db_config['port'],\n",
    "                                                  db_config['db'])\n",
    "# сохраняем коннектор\n",
    "engine = create_engine(connection_string, connect_args={'sslmode':'require'}) "
   ]
  },
  {
   "cell_type": "code",
   "execution_count": 2,
   "id": "526b8362",
   "metadata": {},
   "outputs": [],
   "source": [
    "query_1 = '''\n",
    "            SELECT * \n",
    "            FROM books\n",
    "            LIMIT 5;\n",
    "'''"
   ]
  },
  {
   "cell_type": "code",
   "execution_count": 3,
   "id": "42cb8617",
   "metadata": {},
   "outputs": [],
   "source": [
    "query_2 = '''\n",
    "            SELECT * \n",
    "            FROM authors\n",
    "            LIMIT 5;\n",
    "'''"
   ]
  },
  {
   "cell_type": "code",
   "execution_count": 4,
   "id": "efeec8e1",
   "metadata": {},
   "outputs": [],
   "source": [
    "query_3 = '''\n",
    "            SELECT * \n",
    "            FROM publishers\n",
    "            LIMIT 5;\n",
    "'''"
   ]
  },
  {
   "cell_type": "code",
   "execution_count": 5,
   "id": "bd9e3e7b",
   "metadata": {},
   "outputs": [],
   "source": [
    "query_4 = '''\n",
    "            SELECT * \n",
    "            FROM ratings\n",
    "            LIMIT 5;\n",
    "'''"
   ]
  },
  {
   "cell_type": "code",
   "execution_count": 6,
   "id": "be4fb465",
   "metadata": {},
   "outputs": [],
   "source": [
    "query_5 = '''\n",
    "            SELECT * \n",
    "            FROM reviews\n",
    "            LIMIT 5;\n",
    "'''"
   ]
  },
  {
   "cell_type": "code",
   "execution_count": 7,
   "id": "10c3abce",
   "metadata": {},
   "outputs": [
    {
     "data": {
      "text/html": [
       "<div>\n",
       "<style scoped>\n",
       "    .dataframe tbody tr th:only-of-type {\n",
       "        vertical-align: middle;\n",
       "    }\n",
       "\n",
       "    .dataframe tbody tr th {\n",
       "        vertical-align: top;\n",
       "    }\n",
       "\n",
       "    .dataframe thead th {\n",
       "        text-align: right;\n",
       "    }\n",
       "</style>\n",
       "<table border=\"1\" class=\"dataframe\">\n",
       "  <thead>\n",
       "    <tr style=\"text-align: right;\">\n",
       "      <th></th>\n",
       "      <th>book_id</th>\n",
       "      <th>author_id</th>\n",
       "      <th>title</th>\n",
       "      <th>num_pages</th>\n",
       "      <th>publication_date</th>\n",
       "      <th>publisher_id</th>\n",
       "    </tr>\n",
       "  </thead>\n",
       "  <tbody>\n",
       "    <tr>\n",
       "      <th>0</th>\n",
       "      <td>1</td>\n",
       "      <td>546</td>\n",
       "      <td>'Salem's Lot</td>\n",
       "      <td>594</td>\n",
       "      <td>2005-11-01</td>\n",
       "      <td>93</td>\n",
       "    </tr>\n",
       "    <tr>\n",
       "      <th>1</th>\n",
       "      <td>2</td>\n",
       "      <td>465</td>\n",
       "      <td>1 000 Places to See Before You Die</td>\n",
       "      <td>992</td>\n",
       "      <td>2003-05-22</td>\n",
       "      <td>336</td>\n",
       "    </tr>\n",
       "    <tr>\n",
       "      <th>2</th>\n",
       "      <td>3</td>\n",
       "      <td>407</td>\n",
       "      <td>13 Little Blue Envelopes (Little Blue Envelope...</td>\n",
       "      <td>322</td>\n",
       "      <td>2010-12-21</td>\n",
       "      <td>135</td>\n",
       "    </tr>\n",
       "    <tr>\n",
       "      <th>3</th>\n",
       "      <td>4</td>\n",
       "      <td>82</td>\n",
       "      <td>1491: New Revelations of the Americas Before C...</td>\n",
       "      <td>541</td>\n",
       "      <td>2006-10-10</td>\n",
       "      <td>309</td>\n",
       "    </tr>\n",
       "    <tr>\n",
       "      <th>4</th>\n",
       "      <td>5</td>\n",
       "      <td>125</td>\n",
       "      <td>1776</td>\n",
       "      <td>386</td>\n",
       "      <td>2006-07-04</td>\n",
       "      <td>268</td>\n",
       "    </tr>\n",
       "  </tbody>\n",
       "</table>\n",
       "</div>"
      ],
      "text/plain": [
       "   book_id  author_id                                              title  \\\n",
       "0        1        546                                       'Salem's Lot   \n",
       "1        2        465                 1 000 Places to See Before You Die   \n",
       "2        3        407  13 Little Blue Envelopes (Little Blue Envelope...   \n",
       "3        4         82  1491: New Revelations of the Americas Before C...   \n",
       "4        5        125                                               1776   \n",
       "\n",
       "   num_pages publication_date  publisher_id  \n",
       "0        594       2005-11-01            93  \n",
       "1        992       2003-05-22           336  \n",
       "2        322       2010-12-21           135  \n",
       "3        541       2006-10-10           309  \n",
       "4        386       2006-07-04           268  "
      ]
     },
     "execution_count": 7,
     "metadata": {},
     "output_type": "execute_result"
    }
   ],
   "source": [
    "pd.io.sql.read_sql(query_1, con = engine) "
   ]
  },
  {
   "cell_type": "code",
   "execution_count": 8,
   "id": "8127c1f6",
   "metadata": {},
   "outputs": [
    {
     "data": {
      "text/html": [
       "<div>\n",
       "<style scoped>\n",
       "    .dataframe tbody tr th:only-of-type {\n",
       "        vertical-align: middle;\n",
       "    }\n",
       "\n",
       "    .dataframe tbody tr th {\n",
       "        vertical-align: top;\n",
       "    }\n",
       "\n",
       "    .dataframe thead th {\n",
       "        text-align: right;\n",
       "    }\n",
       "</style>\n",
       "<table border=\"1\" class=\"dataframe\">\n",
       "  <thead>\n",
       "    <tr style=\"text-align: right;\">\n",
       "      <th></th>\n",
       "      <th>author_id</th>\n",
       "      <th>author</th>\n",
       "    </tr>\n",
       "  </thead>\n",
       "  <tbody>\n",
       "    <tr>\n",
       "      <th>0</th>\n",
       "      <td>1</td>\n",
       "      <td>A.S. Byatt</td>\n",
       "    </tr>\n",
       "    <tr>\n",
       "      <th>1</th>\n",
       "      <td>2</td>\n",
       "      <td>Aesop/Laura Harris/Laura Gibbs</td>\n",
       "    </tr>\n",
       "    <tr>\n",
       "      <th>2</th>\n",
       "      <td>3</td>\n",
       "      <td>Agatha Christie</td>\n",
       "    </tr>\n",
       "    <tr>\n",
       "      <th>3</th>\n",
       "      <td>4</td>\n",
       "      <td>Alan Brennert</td>\n",
       "    </tr>\n",
       "    <tr>\n",
       "      <th>4</th>\n",
       "      <td>5</td>\n",
       "      <td>Alan Moore/David   Lloyd</td>\n",
       "    </tr>\n",
       "  </tbody>\n",
       "</table>\n",
       "</div>"
      ],
      "text/plain": [
       "   author_id                          author\n",
       "0          1                      A.S. Byatt\n",
       "1          2  Aesop/Laura Harris/Laura Gibbs\n",
       "2          3                 Agatha Christie\n",
       "3          4                   Alan Brennert\n",
       "4          5        Alan Moore/David   Lloyd"
      ]
     },
     "execution_count": 8,
     "metadata": {},
     "output_type": "execute_result"
    }
   ],
   "source": [
    "pd.io.sql.read_sql(query_2, con = engine) "
   ]
  },
  {
   "cell_type": "code",
   "execution_count": 9,
   "id": "c1c6be81",
   "metadata": {},
   "outputs": [
    {
     "data": {
      "text/html": [
       "<div>\n",
       "<style scoped>\n",
       "    .dataframe tbody tr th:only-of-type {\n",
       "        vertical-align: middle;\n",
       "    }\n",
       "\n",
       "    .dataframe tbody tr th {\n",
       "        vertical-align: top;\n",
       "    }\n",
       "\n",
       "    .dataframe thead th {\n",
       "        text-align: right;\n",
       "    }\n",
       "</style>\n",
       "<table border=\"1\" class=\"dataframe\">\n",
       "  <thead>\n",
       "    <tr style=\"text-align: right;\">\n",
       "      <th></th>\n",
       "      <th>publisher_id</th>\n",
       "      <th>publisher</th>\n",
       "    </tr>\n",
       "  </thead>\n",
       "  <tbody>\n",
       "    <tr>\n",
       "      <th>0</th>\n",
       "      <td>1</td>\n",
       "      <td>Ace</td>\n",
       "    </tr>\n",
       "    <tr>\n",
       "      <th>1</th>\n",
       "      <td>2</td>\n",
       "      <td>Ace Book</td>\n",
       "    </tr>\n",
       "    <tr>\n",
       "      <th>2</th>\n",
       "      <td>3</td>\n",
       "      <td>Ace Books</td>\n",
       "    </tr>\n",
       "    <tr>\n",
       "      <th>3</th>\n",
       "      <td>4</td>\n",
       "      <td>Ace Hardcover</td>\n",
       "    </tr>\n",
       "    <tr>\n",
       "      <th>4</th>\n",
       "      <td>5</td>\n",
       "      <td>Addison Wesley Publishing Company</td>\n",
       "    </tr>\n",
       "  </tbody>\n",
       "</table>\n",
       "</div>"
      ],
      "text/plain": [
       "   publisher_id                          publisher\n",
       "0             1                                Ace\n",
       "1             2                           Ace Book\n",
       "2             3                          Ace Books\n",
       "3             4                      Ace Hardcover\n",
       "4             5  Addison Wesley Publishing Company"
      ]
     },
     "execution_count": 9,
     "metadata": {},
     "output_type": "execute_result"
    }
   ],
   "source": [
    "pd.io.sql.read_sql(query_3, con = engine) "
   ]
  },
  {
   "cell_type": "code",
   "execution_count": 10,
   "id": "b3f1d5cf",
   "metadata": {},
   "outputs": [
    {
     "data": {
      "text/html": [
       "<div>\n",
       "<style scoped>\n",
       "    .dataframe tbody tr th:only-of-type {\n",
       "        vertical-align: middle;\n",
       "    }\n",
       "\n",
       "    .dataframe tbody tr th {\n",
       "        vertical-align: top;\n",
       "    }\n",
       "\n",
       "    .dataframe thead th {\n",
       "        text-align: right;\n",
       "    }\n",
       "</style>\n",
       "<table border=\"1\" class=\"dataframe\">\n",
       "  <thead>\n",
       "    <tr style=\"text-align: right;\">\n",
       "      <th></th>\n",
       "      <th>rating_id</th>\n",
       "      <th>book_id</th>\n",
       "      <th>username</th>\n",
       "      <th>rating</th>\n",
       "    </tr>\n",
       "  </thead>\n",
       "  <tbody>\n",
       "    <tr>\n",
       "      <th>0</th>\n",
       "      <td>1</td>\n",
       "      <td>1</td>\n",
       "      <td>ryanfranco</td>\n",
       "      <td>4</td>\n",
       "    </tr>\n",
       "    <tr>\n",
       "      <th>1</th>\n",
       "      <td>2</td>\n",
       "      <td>1</td>\n",
       "      <td>grantpatricia</td>\n",
       "      <td>2</td>\n",
       "    </tr>\n",
       "    <tr>\n",
       "      <th>2</th>\n",
       "      <td>3</td>\n",
       "      <td>1</td>\n",
       "      <td>brandtandrea</td>\n",
       "      <td>5</td>\n",
       "    </tr>\n",
       "    <tr>\n",
       "      <th>3</th>\n",
       "      <td>4</td>\n",
       "      <td>2</td>\n",
       "      <td>lorichen</td>\n",
       "      <td>3</td>\n",
       "    </tr>\n",
       "    <tr>\n",
       "      <th>4</th>\n",
       "      <td>5</td>\n",
       "      <td>2</td>\n",
       "      <td>mariokeller</td>\n",
       "      <td>2</td>\n",
       "    </tr>\n",
       "  </tbody>\n",
       "</table>\n",
       "</div>"
      ],
      "text/plain": [
       "   rating_id  book_id       username  rating\n",
       "0          1        1     ryanfranco       4\n",
       "1          2        1  grantpatricia       2\n",
       "2          3        1   brandtandrea       5\n",
       "3          4        2       lorichen       3\n",
       "4          5        2    mariokeller       2"
      ]
     },
     "execution_count": 10,
     "metadata": {},
     "output_type": "execute_result"
    }
   ],
   "source": [
    "pd.io.sql.read_sql(query_4, con = engine) "
   ]
  },
  {
   "cell_type": "code",
   "execution_count": 11,
   "id": "263e884e",
   "metadata": {},
   "outputs": [
    {
     "data": {
      "text/html": [
       "<div>\n",
       "<style scoped>\n",
       "    .dataframe tbody tr th:only-of-type {\n",
       "        vertical-align: middle;\n",
       "    }\n",
       "\n",
       "    .dataframe tbody tr th {\n",
       "        vertical-align: top;\n",
       "    }\n",
       "\n",
       "    .dataframe thead th {\n",
       "        text-align: right;\n",
       "    }\n",
       "</style>\n",
       "<table border=\"1\" class=\"dataframe\">\n",
       "  <thead>\n",
       "    <tr style=\"text-align: right;\">\n",
       "      <th></th>\n",
       "      <th>review_id</th>\n",
       "      <th>book_id</th>\n",
       "      <th>username</th>\n",
       "      <th>text</th>\n",
       "    </tr>\n",
       "  </thead>\n",
       "  <tbody>\n",
       "    <tr>\n",
       "      <th>0</th>\n",
       "      <td>1</td>\n",
       "      <td>1</td>\n",
       "      <td>brandtandrea</td>\n",
       "      <td>Mention society tell send professor analysis. ...</td>\n",
       "    </tr>\n",
       "    <tr>\n",
       "      <th>1</th>\n",
       "      <td>2</td>\n",
       "      <td>1</td>\n",
       "      <td>ryanfranco</td>\n",
       "      <td>Foot glass pretty audience hit themselves. Amo...</td>\n",
       "    </tr>\n",
       "    <tr>\n",
       "      <th>2</th>\n",
       "      <td>3</td>\n",
       "      <td>2</td>\n",
       "      <td>lorichen</td>\n",
       "      <td>Listen treat keep worry. Miss husband tax but ...</td>\n",
       "    </tr>\n",
       "    <tr>\n",
       "      <th>3</th>\n",
       "      <td>4</td>\n",
       "      <td>3</td>\n",
       "      <td>johnsonamanda</td>\n",
       "      <td>Finally month interesting blue could nature cu...</td>\n",
       "    </tr>\n",
       "    <tr>\n",
       "      <th>4</th>\n",
       "      <td>5</td>\n",
       "      <td>3</td>\n",
       "      <td>scotttamara</td>\n",
       "      <td>Nation purpose heavy give wait song will. List...</td>\n",
       "    </tr>\n",
       "  </tbody>\n",
       "</table>\n",
       "</div>"
      ],
      "text/plain": [
       "   review_id  book_id       username  \\\n",
       "0          1        1   brandtandrea   \n",
       "1          2        1     ryanfranco   \n",
       "2          3        2       lorichen   \n",
       "3          4        3  johnsonamanda   \n",
       "4          5        3    scotttamara   \n",
       "\n",
       "                                                text  \n",
       "0  Mention society tell send professor analysis. ...  \n",
       "1  Foot glass pretty audience hit themselves. Amo...  \n",
       "2  Listen treat keep worry. Miss husband tax but ...  \n",
       "3  Finally month interesting blue could nature cu...  \n",
       "4  Nation purpose heavy give wait song will. List...  "
      ]
     },
     "execution_count": 11,
     "metadata": {},
     "output_type": "execute_result"
    }
   ],
   "source": [
    "pd.io.sql.read_sql(query_5, con = engine) "
   ]
  },
  {
   "cell_type": "markdown",
   "id": "2edef30d",
   "metadata": {},
   "source": [
    "## Задание 1 "
   ]
  },
  {
   "cell_type": "markdown",
   "id": "ef16e0e9",
   "metadata": {},
   "source": [
    "Посчитайте, сколько книг вышло после 1 января 2000 года"
   ]
  },
  {
   "cell_type": "code",
   "execution_count": 17,
   "id": "f2dd3815",
   "metadata": {},
   "outputs": [],
   "source": [
    "query_t1 = '''\n",
    "           SELECT COUNT(book_id)\n",
    "           FROM books\n",
    "           WHERE publication_date > DATE('2000-01-01');\n",
    "\n",
    "'''"
   ]
  },
  {
   "cell_type": "code",
   "execution_count": 16,
   "id": "2c91d2f0",
   "metadata": {},
   "outputs": [
    {
     "data": {
      "text/html": [
       "<div>\n",
       "<style scoped>\n",
       "    .dataframe tbody tr th:only-of-type {\n",
       "        vertical-align: middle;\n",
       "    }\n",
       "\n",
       "    .dataframe tbody tr th {\n",
       "        vertical-align: top;\n",
       "    }\n",
       "\n",
       "    .dataframe thead th {\n",
       "        text-align: right;\n",
       "    }\n",
       "</style>\n",
       "<table border=\"1\" class=\"dataframe\">\n",
       "  <thead>\n",
       "    <tr style=\"text-align: right;\">\n",
       "      <th></th>\n",
       "      <th>count</th>\n",
       "    </tr>\n",
       "  </thead>\n",
       "  <tbody>\n",
       "    <tr>\n",
       "      <th>0</th>\n",
       "      <td>3</td>\n",
       "    </tr>\n",
       "  </tbody>\n",
       "</table>\n",
       "</div>"
      ],
      "text/plain": [
       "   count\n",
       "0      3"
      ]
     },
     "execution_count": 16,
     "metadata": {},
     "output_type": "execute_result"
    }
   ],
   "source": [
    "pd.io.sql.read_sql(query_extra2, con = engine) "
   ]
  },
  {
   "cell_type": "markdown",
   "id": "4cdecc1f",
   "metadata": {},
   "source": [
    "*Дополнительные запросы для выводов и анализа базы*"
   ]
  },
  {
   "cell_type": "code",
   "execution_count": 14,
   "id": "fe7b05f6",
   "metadata": {},
   "outputs": [],
   "source": [
    "query_extra1 = '''\n",
    "SELECT MIN(publication_date), MAX(publication_date)\n",
    "FROM books;\n",
    "'''\n",
    "\n",
    "query_extra2 = '''\n",
    "SELECT COUNT(title)\n",
    "FROM books\n",
    "WHERE publication_date > DATE('2015-01-01');\n",
    "'''"
   ]
  },
  {
   "cell_type": "code",
   "execution_count": 15,
   "id": "e8f2aeca",
   "metadata": {},
   "outputs": [
    {
     "data": {
      "text/html": [
       "<div>\n",
       "<style scoped>\n",
       "    .dataframe tbody tr th:only-of-type {\n",
       "        vertical-align: middle;\n",
       "    }\n",
       "\n",
       "    .dataframe tbody tr th {\n",
       "        vertical-align: top;\n",
       "    }\n",
       "\n",
       "    .dataframe thead th {\n",
       "        text-align: right;\n",
       "    }\n",
       "</style>\n",
       "<table border=\"1\" class=\"dataframe\">\n",
       "  <thead>\n",
       "    <tr style=\"text-align: right;\">\n",
       "      <th></th>\n",
       "      <th>min</th>\n",
       "      <th>max</th>\n",
       "    </tr>\n",
       "  </thead>\n",
       "  <tbody>\n",
       "    <tr>\n",
       "      <th>0</th>\n",
       "      <td>1952-12-01</td>\n",
       "      <td>2020-03-31</td>\n",
       "    </tr>\n",
       "  </tbody>\n",
       "</table>\n",
       "</div>"
      ],
      "text/plain": [
       "          min         max\n",
       "0  1952-12-01  2020-03-31"
      ]
     },
     "execution_count": 15,
     "metadata": {},
     "output_type": "execute_result"
    }
   ],
   "source": [
    "pd.io.sql.read_sql(query_extra1, con = engine) "
   ]
  },
  {
   "cell_type": "markdown",
   "id": "7e028e51",
   "metadata": {},
   "source": [
    "**Вывод:** в базе присутствуют данные о книгах, изданных **с 1952 года по 2020**. С 2000 года было выпущено более 800 книг (818). Важно, что в последние годы издание книг значительно замедилось: с 2015 до 2020 по данным базы издано всего 3 книги. "
   ]
  },
  {
   "cell_type": "markdown",
   "id": "d3c497cd",
   "metadata": {},
   "source": [
    "## Задание 2"
   ]
  },
  {
   "cell_type": "markdown",
   "id": "7a8670f0",
   "metadata": {},
   "source": [
    "Для каждой книги посчитайте количество обзоров и среднюю оценку"
   ]
  },
  {
   "cell_type": "code",
   "execution_count": 23,
   "id": "2ed2cf53",
   "metadata": {},
   "outputs": [],
   "source": [
    "query_t2 = '''\n",
    "           SELECT b.title, COUNT(r.review_id) as \"количество обзоров\", AVG(rat.rating) as \"средняя оценка\" \n",
    "           FROM books b\n",
    "           LEFT JOIN reviews r ON b.book_id = r.book_id\n",
    "           LEFT JOIN ratings rat ON b.book_id = rat.book_id\n",
    "           GROUP BY b.book_id\n",
    "           ORDER BY COUNT(r.review_id) DESC;\n",
    "\n",
    "'''"
   ]
  },
  {
   "cell_type": "code",
   "execution_count": 20,
   "id": "7e316820",
   "metadata": {
    "scrolled": true
   },
   "outputs": [
    {
     "data": {
      "text/html": [
       "<div>\n",
       "<style scoped>\n",
       "    .dataframe tbody tr th:only-of-type {\n",
       "        vertical-align: middle;\n",
       "    }\n",
       "\n",
       "    .dataframe tbody tr th {\n",
       "        vertical-align: top;\n",
       "    }\n",
       "\n",
       "    .dataframe thead th {\n",
       "        text-align: right;\n",
       "    }\n",
       "</style>\n",
       "<table border=\"1\" class=\"dataframe\">\n",
       "  <thead>\n",
       "    <tr style=\"text-align: right;\">\n",
       "      <th></th>\n",
       "      <th>title</th>\n",
       "      <th>количество обзоров</th>\n",
       "      <th>средняя оценка</th>\n",
       "    </tr>\n",
       "  </thead>\n",
       "  <tbody>\n",
       "    <tr>\n",
       "      <th>0</th>\n",
       "      <td>The Body in the Library (Miss Marple  #3)</td>\n",
       "      <td>4</td>\n",
       "      <td>4.500000</td>\n",
       "    </tr>\n",
       "    <tr>\n",
       "      <th>1</th>\n",
       "      <td>Galápagos</td>\n",
       "      <td>4</td>\n",
       "      <td>4.500000</td>\n",
       "    </tr>\n",
       "    <tr>\n",
       "      <th>2</th>\n",
       "      <td>A Tree Grows in Brooklyn</td>\n",
       "      <td>60</td>\n",
       "      <td>4.250000</td>\n",
       "    </tr>\n",
       "    <tr>\n",
       "      <th>3</th>\n",
       "      <td>Undaunted Courage: The Pioneering First Missio...</td>\n",
       "      <td>4</td>\n",
       "      <td>4.000000</td>\n",
       "    </tr>\n",
       "    <tr>\n",
       "      <th>4</th>\n",
       "      <td>The Prophet</td>\n",
       "      <td>28</td>\n",
       "      <td>4.285714</td>\n",
       "    </tr>\n",
       "    <tr>\n",
       "      <th>...</th>\n",
       "      <td>...</td>\n",
       "      <td>...</td>\n",
       "      <td>...</td>\n",
       "    </tr>\n",
       "    <tr>\n",
       "      <th>995</th>\n",
       "      <td>Alice in Wonderland</td>\n",
       "      <td>52</td>\n",
       "      <td>4.230769</td>\n",
       "    </tr>\n",
       "    <tr>\n",
       "      <th>996</th>\n",
       "      <td>A Woman of Substance (Emma Harte Saga #1)</td>\n",
       "      <td>4</td>\n",
       "      <td>5.000000</td>\n",
       "    </tr>\n",
       "    <tr>\n",
       "      <th>997</th>\n",
       "      <td>Christine</td>\n",
       "      <td>21</td>\n",
       "      <td>3.428571</td>\n",
       "    </tr>\n",
       "    <tr>\n",
       "      <th>998</th>\n",
       "      <td>The Magicians' Guild (Black Magician Trilogy  #1)</td>\n",
       "      <td>4</td>\n",
       "      <td>3.500000</td>\n",
       "    </tr>\n",
       "    <tr>\n",
       "      <th>999</th>\n",
       "      <td>The Plot Against America</td>\n",
       "      <td>4</td>\n",
       "      <td>3.000000</td>\n",
       "    </tr>\n",
       "  </tbody>\n",
       "</table>\n",
       "<p>1000 rows × 3 columns</p>\n",
       "</div>"
      ],
      "text/plain": [
       "                                                 title  количество обзоров  \\\n",
       "0            The Body in the Library (Miss Marple  #3)                   4   \n",
       "1                                            Galápagos                   4   \n",
       "2                             A Tree Grows in Brooklyn                  60   \n",
       "3    Undaunted Courage: The Pioneering First Missio...                   4   \n",
       "4                                          The Prophet                  28   \n",
       "..                                                 ...                 ...   \n",
       "995                                Alice in Wonderland                  52   \n",
       "996          A Woman of Substance (Emma Harte Saga #1)                   4   \n",
       "997                                          Christine                  21   \n",
       "998  The Magicians' Guild (Black Magician Trilogy  #1)                   4   \n",
       "999                           The Plot Against America                   4   \n",
       "\n",
       "     средняя оценка  \n",
       "0          4.500000  \n",
       "1          4.500000  \n",
       "2          4.250000  \n",
       "3          4.000000  \n",
       "4          4.285714  \n",
       "..              ...  \n",
       "995        4.230769  \n",
       "996        5.000000  \n",
       "997        3.428571  \n",
       "998        3.500000  \n",
       "999        3.000000  \n",
       "\n",
       "[1000 rows x 3 columns]"
      ]
     },
     "execution_count": 20,
     "metadata": {},
     "output_type": "execute_result"
    }
   ],
   "source": [
    "pd.io.sql.read_sql(query_t2, con = engine) "
   ]
  },
  {
   "cell_type": "code",
   "execution_count": 21,
   "id": "b1f7ce96",
   "metadata": {},
   "outputs": [],
   "source": [
    "query_books = '''\n",
    "SELECT COUNT(title)\n",
    "FROM books\n",
    "'''"
   ]
  },
  {
   "cell_type": "code",
   "execution_count": 22,
   "id": "44f04480",
   "metadata": {},
   "outputs": [
    {
     "data": {
      "text/html": [
       "<div>\n",
       "<style scoped>\n",
       "    .dataframe tbody tr th:only-of-type {\n",
       "        vertical-align: middle;\n",
       "    }\n",
       "\n",
       "    .dataframe tbody tr th {\n",
       "        vertical-align: top;\n",
       "    }\n",
       "\n",
       "    .dataframe thead th {\n",
       "        text-align: right;\n",
       "    }\n",
       "</style>\n",
       "<table border=\"1\" class=\"dataframe\">\n",
       "  <thead>\n",
       "    <tr style=\"text-align: right;\">\n",
       "      <th></th>\n",
       "      <th>count</th>\n",
       "    </tr>\n",
       "  </thead>\n",
       "  <tbody>\n",
       "    <tr>\n",
       "      <th>0</th>\n",
       "      <td>1000</td>\n",
       "    </tr>\n",
       "  </tbody>\n",
       "</table>\n",
       "</div>"
      ],
      "text/plain": [
       "   count\n",
       "0   1000"
      ]
     },
     "execution_count": 22,
     "metadata": {},
     "output_type": "execute_result"
    }
   ],
   "source": [
    "pd.io.sql.read_sql(query_books, con = engine) "
   ]
  },
  {
   "cell_type": "code",
   "execution_count": 24,
   "id": "cc614426",
   "metadata": {
    "scrolled": true
   },
   "outputs": [
    {
     "data": {
      "text/html": [
       "<div>\n",
       "<style scoped>\n",
       "    .dataframe tbody tr th:only-of-type {\n",
       "        vertical-align: middle;\n",
       "    }\n",
       "\n",
       "    .dataframe tbody tr th {\n",
       "        vertical-align: top;\n",
       "    }\n",
       "\n",
       "    .dataframe thead th {\n",
       "        text-align: right;\n",
       "    }\n",
       "</style>\n",
       "<table border=\"1\" class=\"dataframe\">\n",
       "  <thead>\n",
       "    <tr style=\"text-align: right;\">\n",
       "      <th></th>\n",
       "      <th>title</th>\n",
       "      <th>количество обзоров</th>\n",
       "      <th>средняя оценка</th>\n",
       "    </tr>\n",
       "  </thead>\n",
       "  <tbody>\n",
       "    <tr>\n",
       "      <th>0</th>\n",
       "      <td>Twilight (Twilight  #1)</td>\n",
       "      <td>1120</td>\n",
       "      <td>3.662500</td>\n",
       "    </tr>\n",
       "    <tr>\n",
       "      <th>1</th>\n",
       "      <td>The Hobbit  or There and Back Again</td>\n",
       "      <td>528</td>\n",
       "      <td>4.125000</td>\n",
       "    </tr>\n",
       "    <tr>\n",
       "      <th>2</th>\n",
       "      <td>The Catcher in the Rye</td>\n",
       "      <td>516</td>\n",
       "      <td>3.825581</td>\n",
       "    </tr>\n",
       "    <tr>\n",
       "      <th>3</th>\n",
       "      <td>Harry Potter and the Prisoner of Azkaban (Harr...</td>\n",
       "      <td>492</td>\n",
       "      <td>4.414634</td>\n",
       "    </tr>\n",
       "    <tr>\n",
       "      <th>4</th>\n",
       "      <td>Harry Potter and the Chamber of Secrets (Harry...</td>\n",
       "      <td>480</td>\n",
       "      <td>4.287500</td>\n",
       "    </tr>\n",
       "    <tr>\n",
       "      <th>...</th>\n",
       "      <td>...</td>\n",
       "      <td>...</td>\n",
       "      <td>...</td>\n",
       "    </tr>\n",
       "    <tr>\n",
       "      <th>995</th>\n",
       "      <td>Essential Tales and Poems</td>\n",
       "      <td>0</td>\n",
       "      <td>4.000000</td>\n",
       "    </tr>\n",
       "    <tr>\n",
       "      <th>996</th>\n",
       "      <td>The Natural Way to Draw</td>\n",
       "      <td>0</td>\n",
       "      <td>3.000000</td>\n",
       "    </tr>\n",
       "    <tr>\n",
       "      <th>997</th>\n",
       "      <td>Disney's Beauty and the Beast (A Little Golden...</td>\n",
       "      <td>0</td>\n",
       "      <td>4.000000</td>\n",
       "    </tr>\n",
       "    <tr>\n",
       "      <th>998</th>\n",
       "      <td>Anne Rice's The Vampire Lestat: A Graphic Novel</td>\n",
       "      <td>0</td>\n",
       "      <td>3.666667</td>\n",
       "    </tr>\n",
       "    <tr>\n",
       "      <th>999</th>\n",
       "      <td>The Cat in the Hat and Other Dr. Seuss Favorites</td>\n",
       "      <td>0</td>\n",
       "      <td>5.000000</td>\n",
       "    </tr>\n",
       "  </tbody>\n",
       "</table>\n",
       "<p>1000 rows × 3 columns</p>\n",
       "</div>"
      ],
      "text/plain": [
       "                                                 title  количество обзоров  \\\n",
       "0                              Twilight (Twilight  #1)                1120   \n",
       "1                  The Hobbit  or There and Back Again                 528   \n",
       "2                               The Catcher in the Rye                 516   \n",
       "3    Harry Potter and the Prisoner of Azkaban (Harr...                 492   \n",
       "4    Harry Potter and the Chamber of Secrets (Harry...                 480   \n",
       "..                                                 ...                 ...   \n",
       "995                          Essential Tales and Poems                   0   \n",
       "996                            The Natural Way to Draw                   0   \n",
       "997  Disney's Beauty and the Beast (A Little Golden...                   0   \n",
       "998    Anne Rice's The Vampire Lestat: A Graphic Novel                   0   \n",
       "999   The Cat in the Hat and Other Dr. Seuss Favorites                   0   \n",
       "\n",
       "     средняя оценка  \n",
       "0          3.662500  \n",
       "1          4.125000  \n",
       "2          3.825581  \n",
       "3          4.414634  \n",
       "4          4.287500  \n",
       "..              ...  \n",
       "995        4.000000  \n",
       "996        3.000000  \n",
       "997        4.000000  \n",
       "998        3.666667  \n",
       "999        5.000000  \n",
       "\n",
       "[1000 rows x 3 columns]"
      ]
     },
     "execution_count": 24,
     "metadata": {},
     "output_type": "execute_result"
    }
   ],
   "source": [
    "pd.io.sql.read_sql(query_t2, con = engine) "
   ]
  },
  {
   "cell_type": "code",
   "execution_count": 25,
   "id": "3c559b7c",
   "metadata": {},
   "outputs": [
    {
     "data": {
      "text/html": [
       "<div>\n",
       "<style scoped>\n",
       "    .dataframe tbody tr th:only-of-type {\n",
       "        vertical-align: middle;\n",
       "    }\n",
       "\n",
       "    .dataframe tbody tr th {\n",
       "        vertical-align: top;\n",
       "    }\n",
       "\n",
       "    .dataframe thead th {\n",
       "        text-align: right;\n",
       "    }\n",
       "</style>\n",
       "<table border=\"1\" class=\"dataframe\">\n",
       "  <thead>\n",
       "    <tr style=\"text-align: right;\">\n",
       "      <th></th>\n",
       "      <th>book_id</th>\n",
       "      <th>author_id</th>\n",
       "      <th>title</th>\n",
       "      <th>num_pages</th>\n",
       "      <th>publication_date</th>\n",
       "      <th>publisher_id</th>\n",
       "      <th>review_id</th>\n",
       "      <th>book_id</th>\n",
       "      <th>username</th>\n",
       "      <th>text</th>\n",
       "      <th>rating_id</th>\n",
       "      <th>book_id</th>\n",
       "      <th>username</th>\n",
       "      <th>rating</th>\n",
       "    </tr>\n",
       "  </thead>\n",
       "  <tbody>\n",
       "    <tr>\n",
       "      <th>0</th>\n",
       "      <td>1</td>\n",
       "      <td>546</td>\n",
       "      <td>'Salem's Lot</td>\n",
       "      <td>594</td>\n",
       "      <td>2005-11-01</td>\n",
       "      <td>93</td>\n",
       "      <td>2.0</td>\n",
       "      <td>1.0</td>\n",
       "      <td>ryanfranco</td>\n",
       "      <td>Foot glass pretty audience hit themselves. Amo...</td>\n",
       "      <td>1</td>\n",
       "      <td>1</td>\n",
       "      <td>ryanfranco</td>\n",
       "      <td>4</td>\n",
       "    </tr>\n",
       "    <tr>\n",
       "      <th>1</th>\n",
       "      <td>1</td>\n",
       "      <td>546</td>\n",
       "      <td>'Salem's Lot</td>\n",
       "      <td>594</td>\n",
       "      <td>2005-11-01</td>\n",
       "      <td>93</td>\n",
       "      <td>1.0</td>\n",
       "      <td>1.0</td>\n",
       "      <td>brandtandrea</td>\n",
       "      <td>Mention society tell send professor analysis. ...</td>\n",
       "      <td>1</td>\n",
       "      <td>1</td>\n",
       "      <td>ryanfranco</td>\n",
       "      <td>4</td>\n",
       "    </tr>\n",
       "    <tr>\n",
       "      <th>2</th>\n",
       "      <td>1</td>\n",
       "      <td>546</td>\n",
       "      <td>'Salem's Lot</td>\n",
       "      <td>594</td>\n",
       "      <td>2005-11-01</td>\n",
       "      <td>93</td>\n",
       "      <td>2.0</td>\n",
       "      <td>1.0</td>\n",
       "      <td>ryanfranco</td>\n",
       "      <td>Foot glass pretty audience hit themselves. Amo...</td>\n",
       "      <td>2</td>\n",
       "      <td>1</td>\n",
       "      <td>grantpatricia</td>\n",
       "      <td>2</td>\n",
       "    </tr>\n",
       "    <tr>\n",
       "      <th>3</th>\n",
       "      <td>1</td>\n",
       "      <td>546</td>\n",
       "      <td>'Salem's Lot</td>\n",
       "      <td>594</td>\n",
       "      <td>2005-11-01</td>\n",
       "      <td>93</td>\n",
       "      <td>1.0</td>\n",
       "      <td>1.0</td>\n",
       "      <td>brandtandrea</td>\n",
       "      <td>Mention society tell send professor analysis. ...</td>\n",
       "      <td>2</td>\n",
       "      <td>1</td>\n",
       "      <td>grantpatricia</td>\n",
       "      <td>2</td>\n",
       "    </tr>\n",
       "    <tr>\n",
       "      <th>4</th>\n",
       "      <td>1</td>\n",
       "      <td>546</td>\n",
       "      <td>'Salem's Lot</td>\n",
       "      <td>594</td>\n",
       "      <td>2005-11-01</td>\n",
       "      <td>93</td>\n",
       "      <td>2.0</td>\n",
       "      <td>1.0</td>\n",
       "      <td>ryanfranco</td>\n",
       "      <td>Foot glass pretty audience hit themselves. Amo...</td>\n",
       "      <td>3</td>\n",
       "      <td>1</td>\n",
       "      <td>brandtandrea</td>\n",
       "      <td>5</td>\n",
       "    </tr>\n",
       "    <tr>\n",
       "      <th>...</th>\n",
       "      <td>...</td>\n",
       "      <td>...</td>\n",
       "      <td>...</td>\n",
       "      <td>...</td>\n",
       "      <td>...</td>\n",
       "      <td>...</td>\n",
       "      <td>...</td>\n",
       "      <td>...</td>\n",
       "      <td>...</td>\n",
       "      <td>...</td>\n",
       "      <td>...</td>\n",
       "      <td>...</td>\n",
       "      <td>...</td>\n",
       "      <td>...</td>\n",
       "    </tr>\n",
       "    <tr>\n",
       "      <th>26175</th>\n",
       "      <td>1000</td>\n",
       "      <td>509</td>\n",
       "      <td>Zen and the Art of Motorcycle Maintenance: An ...</td>\n",
       "      <td>540</td>\n",
       "      <td>2006-04-25</td>\n",
       "      <td>143</td>\n",
       "      <td>2790.0</td>\n",
       "      <td>1000.0</td>\n",
       "      <td>wknight</td>\n",
       "      <td>Change lose answer close pressure. Spend so now.</td>\n",
       "      <td>6455</td>\n",
       "      <td>1000</td>\n",
       "      <td>zross</td>\n",
       "      <td>2</td>\n",
       "    </tr>\n",
       "    <tr>\n",
       "      <th>26176</th>\n",
       "      <td>1000</td>\n",
       "      <td>509</td>\n",
       "      <td>Zen and the Art of Motorcycle Maintenance: An ...</td>\n",
       "      <td>540</td>\n",
       "      <td>2006-04-25</td>\n",
       "      <td>143</td>\n",
       "      <td>2793.0</td>\n",
       "      <td>1000.0</td>\n",
       "      <td>jarvispaul</td>\n",
       "      <td>Republican staff bit eat material measure plan...</td>\n",
       "      <td>6456</td>\n",
       "      <td>1000</td>\n",
       "      <td>fharris</td>\n",
       "      <td>5</td>\n",
       "    </tr>\n",
       "    <tr>\n",
       "      <th>26177</th>\n",
       "      <td>1000</td>\n",
       "      <td>509</td>\n",
       "      <td>Zen and the Art of Motorcycle Maintenance: An ...</td>\n",
       "      <td>540</td>\n",
       "      <td>2006-04-25</td>\n",
       "      <td>143</td>\n",
       "      <td>2792.0</td>\n",
       "      <td>1000.0</td>\n",
       "      <td>wendy18</td>\n",
       "      <td>Or western offer wonder ask. More hear phone f...</td>\n",
       "      <td>6456</td>\n",
       "      <td>1000</td>\n",
       "      <td>fharris</td>\n",
       "      <td>5</td>\n",
       "    </tr>\n",
       "    <tr>\n",
       "      <th>26178</th>\n",
       "      <td>1000</td>\n",
       "      <td>509</td>\n",
       "      <td>Zen and the Art of Motorcycle Maintenance: An ...</td>\n",
       "      <td>540</td>\n",
       "      <td>2006-04-25</td>\n",
       "      <td>143</td>\n",
       "      <td>2791.0</td>\n",
       "      <td>1000.0</td>\n",
       "      <td>carolrodriguez</td>\n",
       "      <td>Authority go who television entire hair guy po...</td>\n",
       "      <td>6456</td>\n",
       "      <td>1000</td>\n",
       "      <td>fharris</td>\n",
       "      <td>5</td>\n",
       "    </tr>\n",
       "    <tr>\n",
       "      <th>26179</th>\n",
       "      <td>1000</td>\n",
       "      <td>509</td>\n",
       "      <td>Zen and the Art of Motorcycle Maintenance: An ...</td>\n",
       "      <td>540</td>\n",
       "      <td>2006-04-25</td>\n",
       "      <td>143</td>\n",
       "      <td>2790.0</td>\n",
       "      <td>1000.0</td>\n",
       "      <td>wknight</td>\n",
       "      <td>Change lose answer close pressure. Spend so now.</td>\n",
       "      <td>6456</td>\n",
       "      <td>1000</td>\n",
       "      <td>fharris</td>\n",
       "      <td>5</td>\n",
       "    </tr>\n",
       "  </tbody>\n",
       "</table>\n",
       "<p>26180 rows × 14 columns</p>\n",
       "</div>"
      ],
      "text/plain": [
       "       book_id  author_id                                              title  \\\n",
       "0            1        546                                       'Salem's Lot   \n",
       "1            1        546                                       'Salem's Lot   \n",
       "2            1        546                                       'Salem's Lot   \n",
       "3            1        546                                       'Salem's Lot   \n",
       "4            1        546                                       'Salem's Lot   \n",
       "...        ...        ...                                                ...   \n",
       "26175     1000        509  Zen and the Art of Motorcycle Maintenance: An ...   \n",
       "26176     1000        509  Zen and the Art of Motorcycle Maintenance: An ...   \n",
       "26177     1000        509  Zen and the Art of Motorcycle Maintenance: An ...   \n",
       "26178     1000        509  Zen and the Art of Motorcycle Maintenance: An ...   \n",
       "26179     1000        509  Zen and the Art of Motorcycle Maintenance: An ...   \n",
       "\n",
       "       num_pages publication_date  publisher_id  review_id  book_id  \\\n",
       "0            594       2005-11-01            93        2.0      1.0   \n",
       "1            594       2005-11-01            93        1.0      1.0   \n",
       "2            594       2005-11-01            93        2.0      1.0   \n",
       "3            594       2005-11-01            93        1.0      1.0   \n",
       "4            594       2005-11-01            93        2.0      1.0   \n",
       "...          ...              ...           ...        ...      ...   \n",
       "26175        540       2006-04-25           143     2790.0   1000.0   \n",
       "26176        540       2006-04-25           143     2793.0   1000.0   \n",
       "26177        540       2006-04-25           143     2792.0   1000.0   \n",
       "26178        540       2006-04-25           143     2791.0   1000.0   \n",
       "26179        540       2006-04-25           143     2790.0   1000.0   \n",
       "\n",
       "             username                                               text  \\\n",
       "0          ryanfranco  Foot glass pretty audience hit themselves. Amo...   \n",
       "1        brandtandrea  Mention society tell send professor analysis. ...   \n",
       "2          ryanfranco  Foot glass pretty audience hit themselves. Amo...   \n",
       "3        brandtandrea  Mention society tell send professor analysis. ...   \n",
       "4          ryanfranco  Foot glass pretty audience hit themselves. Amo...   \n",
       "...               ...                                                ...   \n",
       "26175         wknight   Change lose answer close pressure. Spend so now.   \n",
       "26176      jarvispaul  Republican staff bit eat material measure plan...   \n",
       "26177         wendy18  Or western offer wonder ask. More hear phone f...   \n",
       "26178  carolrodriguez  Authority go who television entire hair guy po...   \n",
       "26179         wknight   Change lose answer close pressure. Spend so now.   \n",
       "\n",
       "       rating_id  book_id       username  rating  \n",
       "0              1        1     ryanfranco       4  \n",
       "1              1        1     ryanfranco       4  \n",
       "2              2        1  grantpatricia       2  \n",
       "3              2        1  grantpatricia       2  \n",
       "4              3        1   brandtandrea       5  \n",
       "...          ...      ...            ...     ...  \n",
       "26175       6455     1000          zross       2  \n",
       "26176       6456     1000        fharris       5  \n",
       "26177       6456     1000        fharris       5  \n",
       "26178       6456     1000        fharris       5  \n",
       "26179       6456     1000        fharris       5  \n",
       "\n",
       "[26180 rows x 14 columns]"
      ]
     },
     "execution_count": 25,
     "metadata": {},
     "output_type": "execute_result"
    }
   ],
   "source": [
    "query_t2_5 = '''\n",
    "           SELECT * \n",
    "           FROM books b\n",
    "           LEFT JOIN reviews r ON b.book_id = r.book_id\n",
    "           LEFT JOIN ratings rat ON b.book_id = rat.book_id\n",
    "'''\n",
    "pd.io.sql.read_sql(query_t2_5, con = engine) "
   ]
  },
  {
   "cell_type": "code",
   "execution_count": 26,
   "id": "6ad93f34",
   "metadata": {},
   "outputs": [],
   "source": [
    "query_t2_1 = '''\n",
    "           SELECT b.title, COUNT(DISTINCT r.review_id) as \"количество обзоров\", AVG(rat.rating) as \"средняя оценка\" \n",
    "           FROM books b\n",
    "           LEFT JOIN reviews r ON b.book_id = r.book_id\n",
    "           LEFT JOIN ratings rat ON b.book_id = rat.book_id\n",
    "           GROUP BY b.book_id\n",
    "           ORDER BY COUNT(DISTINCT r.review_id) DESC;\n",
    "\n",
    "'''"
   ]
  },
  {
   "cell_type": "code",
   "execution_count": 27,
   "id": "bf34be22",
   "metadata": {
    "scrolled": true
   },
   "outputs": [
    {
     "data": {
      "text/html": [
       "<div>\n",
       "<style scoped>\n",
       "    .dataframe tbody tr th:only-of-type {\n",
       "        vertical-align: middle;\n",
       "    }\n",
       "\n",
       "    .dataframe tbody tr th {\n",
       "        vertical-align: top;\n",
       "    }\n",
       "\n",
       "    .dataframe thead th {\n",
       "        text-align: right;\n",
       "    }\n",
       "</style>\n",
       "<table border=\"1\" class=\"dataframe\">\n",
       "  <thead>\n",
       "    <tr style=\"text-align: right;\">\n",
       "      <th></th>\n",
       "      <th>title</th>\n",
       "      <th>количество обзоров</th>\n",
       "      <th>средняя оценка</th>\n",
       "    </tr>\n",
       "  </thead>\n",
       "  <tbody>\n",
       "    <tr>\n",
       "      <th>0</th>\n",
       "      <td>Twilight (Twilight  #1)</td>\n",
       "      <td>7</td>\n",
       "      <td>3.662500</td>\n",
       "    </tr>\n",
       "    <tr>\n",
       "      <th>1</th>\n",
       "      <td>Water for Elephants</td>\n",
       "      <td>6</td>\n",
       "      <td>3.977273</td>\n",
       "    </tr>\n",
       "    <tr>\n",
       "      <th>2</th>\n",
       "      <td>The Glass Castle</td>\n",
       "      <td>6</td>\n",
       "      <td>4.206897</td>\n",
       "    </tr>\n",
       "    <tr>\n",
       "      <th>3</th>\n",
       "      <td>Harry Potter and the Prisoner of Azkaban (Harr...</td>\n",
       "      <td>6</td>\n",
       "      <td>4.414634</td>\n",
       "    </tr>\n",
       "    <tr>\n",
       "      <th>4</th>\n",
       "      <td>The Curious Incident of the Dog in the Night-Time</td>\n",
       "      <td>6</td>\n",
       "      <td>4.081081</td>\n",
       "    </tr>\n",
       "    <tr>\n",
       "      <th>...</th>\n",
       "      <td>...</td>\n",
       "      <td>...</td>\n",
       "      <td>...</td>\n",
       "    </tr>\n",
       "    <tr>\n",
       "      <th>995</th>\n",
       "      <td>Anne Rice's The Vampire Lestat: A Graphic Novel</td>\n",
       "      <td>0</td>\n",
       "      <td>3.666667</td>\n",
       "    </tr>\n",
       "    <tr>\n",
       "      <th>996</th>\n",
       "      <td>The Natural Way to Draw</td>\n",
       "      <td>0</td>\n",
       "      <td>3.000000</td>\n",
       "    </tr>\n",
       "    <tr>\n",
       "      <th>997</th>\n",
       "      <td>The Cat in the Hat and Other Dr. Seuss Favorites</td>\n",
       "      <td>0</td>\n",
       "      <td>5.000000</td>\n",
       "    </tr>\n",
       "    <tr>\n",
       "      <th>998</th>\n",
       "      <td>Essential Tales and Poems</td>\n",
       "      <td>0</td>\n",
       "      <td>4.000000</td>\n",
       "    </tr>\n",
       "    <tr>\n",
       "      <th>999</th>\n",
       "      <td>Disney's Beauty and the Beast (A Little Golden...</td>\n",
       "      <td>0</td>\n",
       "      <td>4.000000</td>\n",
       "    </tr>\n",
       "  </tbody>\n",
       "</table>\n",
       "<p>1000 rows × 3 columns</p>\n",
       "</div>"
      ],
      "text/plain": [
       "                                                 title  количество обзоров  \\\n",
       "0                              Twilight (Twilight  #1)                   7   \n",
       "1                                  Water for Elephants                   6   \n",
       "2                                     The Glass Castle                   6   \n",
       "3    Harry Potter and the Prisoner of Azkaban (Harr...                   6   \n",
       "4    The Curious Incident of the Dog in the Night-Time                   6   \n",
       "..                                                 ...                 ...   \n",
       "995    Anne Rice's The Vampire Lestat: A Graphic Novel                   0   \n",
       "996                            The Natural Way to Draw                   0   \n",
       "997   The Cat in the Hat and Other Dr. Seuss Favorites                   0   \n",
       "998                          Essential Tales and Poems                   0   \n",
       "999  Disney's Beauty and the Beast (A Little Golden...                   0   \n",
       "\n",
       "     средняя оценка  \n",
       "0          3.662500  \n",
       "1          3.977273  \n",
       "2          4.206897  \n",
       "3          4.414634  \n",
       "4          4.081081  \n",
       "..              ...  \n",
       "995        3.666667  \n",
       "996        3.000000  \n",
       "997        5.000000  \n",
       "998        4.000000  \n",
       "999        4.000000  \n",
       "\n",
       "[1000 rows x 3 columns]"
      ]
     },
     "execution_count": 27,
     "metadata": {},
     "output_type": "execute_result"
    }
   ],
   "source": [
    "pd.io.sql.read_sql(query_t2_1, con = engine) "
   ]
  },
  {
   "cell_type": "markdown",
   "id": "44011e3e",
   "metadata": {},
   "source": [
    "*Дополнительные запросы для анализа*"
   ]
  },
  {
   "cell_type": "code",
   "execution_count": 28,
   "id": "6a10bed7",
   "metadata": {},
   "outputs": [],
   "source": [
    "query_extra3 = '''\n",
    "           SELECT b.title, COUNT(DISTINCT r.review_id) as \"количество обзоров\", AVG(rat.rating) as \"средняя оценка\", avg(b.num_pages)\n",
    "           FROM books b\n",
    "           left JOIN reviews r ON b.book_id = r.book_id\n",
    "           left JOIN ratings rat ON b.book_id = rat.book_id\n",
    "           GROUP BY b.book_id\n",
    "           order by COUNT( DISTINCT r.review_id) desc\n",
    "           LIMIT 5;\n",
    "'''\n",
    "\n",
    "query_extra4 = '''\n",
    "           SELECT b.title, COUNT(DISTINCT r.review_id) as \"количество обзоров\", AVG(rat.rating) as \"средняя оценка\", avg(b.num_pages)\n",
    "           FROM books b\n",
    "           left JOIN reviews r ON b.book_id = r.book_id\n",
    "           left JOIN ratings rat ON b.book_id = rat.book_id\n",
    "           GROUP BY b.book_id\n",
    "           order by AVG(rat.rating) desc\n",
    "           LIMIT 5;\n",
    "'''"
   ]
  },
  {
   "cell_type": "code",
   "execution_count": 29,
   "id": "cd09086f",
   "metadata": {},
   "outputs": [
    {
     "data": {
      "text/html": [
       "<div>\n",
       "<style scoped>\n",
       "    .dataframe tbody tr th:only-of-type {\n",
       "        vertical-align: middle;\n",
       "    }\n",
       "\n",
       "    .dataframe tbody tr th {\n",
       "        vertical-align: top;\n",
       "    }\n",
       "\n",
       "    .dataframe thead th {\n",
       "        text-align: right;\n",
       "    }\n",
       "</style>\n",
       "<table border=\"1\" class=\"dataframe\">\n",
       "  <thead>\n",
       "    <tr style=\"text-align: right;\">\n",
       "      <th></th>\n",
       "      <th>title</th>\n",
       "      <th>количество обзоров</th>\n",
       "      <th>средняя оценка</th>\n",
       "      <th>avg</th>\n",
       "    </tr>\n",
       "  </thead>\n",
       "  <tbody>\n",
       "    <tr>\n",
       "      <th>0</th>\n",
       "      <td>Twilight (Twilight  #1)</td>\n",
       "      <td>7</td>\n",
       "      <td>3.662500</td>\n",
       "      <td>501.0</td>\n",
       "    </tr>\n",
       "    <tr>\n",
       "      <th>1</th>\n",
       "      <td>Outlander (Outlander  #1)</td>\n",
       "      <td>6</td>\n",
       "      <td>4.125000</td>\n",
       "      <td>850.0</td>\n",
       "    </tr>\n",
       "    <tr>\n",
       "      <th>2</th>\n",
       "      <td>Eat  Pray  Love</td>\n",
       "      <td>6</td>\n",
       "      <td>3.395833</td>\n",
       "      <td>368.0</td>\n",
       "    </tr>\n",
       "    <tr>\n",
       "      <th>3</th>\n",
       "      <td>Harry Potter and the Chamber of Secrets (Harry...</td>\n",
       "      <td>6</td>\n",
       "      <td>4.287500</td>\n",
       "      <td>341.0</td>\n",
       "    </tr>\n",
       "    <tr>\n",
       "      <th>4</th>\n",
       "      <td>Harry Potter and the Prisoner of Azkaban (Harr...</td>\n",
       "      <td>6</td>\n",
       "      <td>4.414634</td>\n",
       "      <td>435.0</td>\n",
       "    </tr>\n",
       "  </tbody>\n",
       "</table>\n",
       "</div>"
      ],
      "text/plain": [
       "                                               title  количество обзоров  \\\n",
       "0                            Twilight (Twilight  #1)                   7   \n",
       "1                          Outlander (Outlander  #1)                   6   \n",
       "2                                    Eat  Pray  Love                   6   \n",
       "3  Harry Potter and the Chamber of Secrets (Harry...                   6   \n",
       "4  Harry Potter and the Prisoner of Azkaban (Harr...                   6   \n",
       "\n",
       "   средняя оценка    avg  \n",
       "0        3.662500  501.0  \n",
       "1        4.125000  850.0  \n",
       "2        3.395833  368.0  \n",
       "3        4.287500  341.0  \n",
       "4        4.414634  435.0  "
      ]
     },
     "execution_count": 29,
     "metadata": {},
     "output_type": "execute_result"
    }
   ],
   "source": [
    "pd.io.sql.read_sql(query_extra3, con = engine) "
   ]
  },
  {
   "cell_type": "code",
   "execution_count": 30,
   "id": "2c3afd1e",
   "metadata": {
    "scrolled": true
   },
   "outputs": [
    {
     "data": {
      "text/html": [
       "<div>\n",
       "<style scoped>\n",
       "    .dataframe tbody tr th:only-of-type {\n",
       "        vertical-align: middle;\n",
       "    }\n",
       "\n",
       "    .dataframe tbody tr th {\n",
       "        vertical-align: top;\n",
       "    }\n",
       "\n",
       "    .dataframe thead th {\n",
       "        text-align: right;\n",
       "    }\n",
       "</style>\n",
       "<table border=\"1\" class=\"dataframe\">\n",
       "  <thead>\n",
       "    <tr style=\"text-align: right;\">\n",
       "      <th></th>\n",
       "      <th>title</th>\n",
       "      <th>количество обзоров</th>\n",
       "      <th>средняя оценка</th>\n",
       "      <th>avg</th>\n",
       "    </tr>\n",
       "  </thead>\n",
       "  <tbody>\n",
       "    <tr>\n",
       "      <th>0</th>\n",
       "      <td>A Woman of Substance (Emma Harte Saga #1)</td>\n",
       "      <td>2</td>\n",
       "      <td>5.0</td>\n",
       "      <td>928.0</td>\n",
       "    </tr>\n",
       "    <tr>\n",
       "      <th>1</th>\n",
       "      <td>Act of Treason (Mitch Rapp  #9)</td>\n",
       "      <td>2</td>\n",
       "      <td>5.0</td>\n",
       "      <td>432.0</td>\n",
       "    </tr>\n",
       "    <tr>\n",
       "      <th>2</th>\n",
       "      <td>A Dirty Job (Grim Reaper  #1)</td>\n",
       "      <td>4</td>\n",
       "      <td>5.0</td>\n",
       "      <td>387.0</td>\n",
       "    </tr>\n",
       "    <tr>\n",
       "      <th>3</th>\n",
       "      <td>A Fistful of Charms (The Hollows  #4)</td>\n",
       "      <td>2</td>\n",
       "      <td>5.0</td>\n",
       "      <td>510.0</td>\n",
       "    </tr>\n",
       "    <tr>\n",
       "      <th>4</th>\n",
       "      <td>Alas  Babylon</td>\n",
       "      <td>2</td>\n",
       "      <td>5.0</td>\n",
       "      <td>323.0</td>\n",
       "    </tr>\n",
       "  </tbody>\n",
       "</table>\n",
       "</div>"
      ],
      "text/plain": [
       "                                       title  количество обзоров  \\\n",
       "0  A Woman of Substance (Emma Harte Saga #1)                   2   \n",
       "1            Act of Treason (Mitch Rapp  #9)                   2   \n",
       "2              A Dirty Job (Grim Reaper  #1)                   4   \n",
       "3      A Fistful of Charms (The Hollows  #4)                   2   \n",
       "4                              Alas  Babylon                   2   \n",
       "\n",
       "   средняя оценка    avg  \n",
       "0             5.0  928.0  \n",
       "1             5.0  432.0  \n",
       "2             5.0  387.0  \n",
       "3             5.0  510.0  \n",
       "4             5.0  323.0  "
      ]
     },
     "execution_count": 30,
     "metadata": {},
     "output_type": "execute_result"
    }
   ],
   "source": [
    "pd.io.sql.read_sql(query_extra4, con = engine) "
   ]
  },
  {
   "cell_type": "markdown",
   "id": "620b748d",
   "metadata": {},
   "source": [
    "**Вывод**: у книг с наименьшим количество обзоров наивысшая оценку, в то время как у мировых бестселлеров с огромным количеством обзоров оценки в среднем ниже и ничего не говорит о качестве книги. Это вполне может быть объяснимо: книги с небольшим количеством обзоров могут быть недавно вышедшими (а соответственно, оценок у них в целом меньше, за счет чего оценка выше (если одна 5, то и средняя будет 5), в то время как у давно вышедших, популярных книг много разных оценок, как и много отзывов. Или же книги с маленьким количеством обзоров непопулярны, ограничены, направлены на узкий круг читателей."
   ]
  },
  {
   "cell_type": "markdown",
   "id": "da65b82c",
   "metadata": {},
   "source": [
    "## Задание 3"
   ]
  },
  {
   "cell_type": "markdown",
   "id": "7f4acd3d",
   "metadata": {},
   "source": [
    "Определите издательство, которое выпустило наибольшее число книг толще 50 страниц — так вы исключите из анализа брошюры"
   ]
  },
  {
   "cell_type": "code",
   "execution_count": 31,
   "id": "82cdc958",
   "metadata": {},
   "outputs": [],
   "source": [
    "query_t3 = '''\n",
    "           SELECT p.publisher\n",
    "           FROM publishers p\n",
    "           JOIN books b ON p.publisher_id = b.publisher_id\n",
    "           WHERE p.publisher_id = (SELECT publisher_id\n",
    "                                   FROM books\n",
    "                                   WHERE num_pages > 50\n",
    "                                   GROUP BY publisher_id\n",
    "                                   ORDER BY COUNT(book_id) DESC\n",
    "                                   LIMIT 1)\n",
    "           LIMIT 1;\n",
    "'''"
   ]
  },
  {
   "cell_type": "code",
   "execution_count": 32,
   "id": "31ad3d87",
   "metadata": {
    "scrolled": true
   },
   "outputs": [
    {
     "data": {
      "text/html": [
       "<div>\n",
       "<style scoped>\n",
       "    .dataframe tbody tr th:only-of-type {\n",
       "        vertical-align: middle;\n",
       "    }\n",
       "\n",
       "    .dataframe tbody tr th {\n",
       "        vertical-align: top;\n",
       "    }\n",
       "\n",
       "    .dataframe thead th {\n",
       "        text-align: right;\n",
       "    }\n",
       "</style>\n",
       "<table border=\"1\" class=\"dataframe\">\n",
       "  <thead>\n",
       "    <tr style=\"text-align: right;\">\n",
       "      <th></th>\n",
       "      <th>publisher</th>\n",
       "    </tr>\n",
       "  </thead>\n",
       "  <tbody>\n",
       "    <tr>\n",
       "      <th>0</th>\n",
       "      <td>Penguin Books</td>\n",
       "    </tr>\n",
       "  </tbody>\n",
       "</table>\n",
       "</div>"
      ],
      "text/plain": [
       "       publisher\n",
       "0  Penguin Books"
      ]
     },
     "execution_count": 32,
     "metadata": {},
     "output_type": "execute_result"
    }
   ],
   "source": [
    "pd.io.sql.read_sql(query_t3, con = engine) "
   ]
  },
  {
   "cell_type": "markdown",
   "id": "66e91530",
   "metadata": {},
   "source": [
    "*Дополнительные запросы для анализа*"
   ]
  },
  {
   "cell_type": "code",
   "execution_count": 33,
   "id": "8ce270ad",
   "metadata": {},
   "outputs": [],
   "source": [
    "query_extra5 = '''\n",
    "           SELECT p.publisher, count(b.title)\n",
    "           FROM publishers p\n",
    "           JOIN books b ON p.publisher_id = b.publisher_id\n",
    "           WHERE p.publisher_id = (SELECT publisher_id\n",
    "                                   FROM books\n",
    "                                   WHERE num_pages > 50\n",
    "                                   GROUP BY publisher_id\n",
    "                                   ORDER BY COUNT(book_id) DESC\n",
    "                                   LIMIT 1)\n",
    "            GROUP BY p.publisher\n",
    "            LIMIT 1;\n",
    "'''"
   ]
  },
  {
   "cell_type": "code",
   "execution_count": 34,
   "id": "a84bf676",
   "metadata": {},
   "outputs": [
    {
     "data": {
      "text/html": [
       "<div>\n",
       "<style scoped>\n",
       "    .dataframe tbody tr th:only-of-type {\n",
       "        vertical-align: middle;\n",
       "    }\n",
       "\n",
       "    .dataframe tbody tr th {\n",
       "        vertical-align: top;\n",
       "    }\n",
       "\n",
       "    .dataframe thead th {\n",
       "        text-align: right;\n",
       "    }\n",
       "</style>\n",
       "<table border=\"1\" class=\"dataframe\">\n",
       "  <thead>\n",
       "    <tr style=\"text-align: right;\">\n",
       "      <th></th>\n",
       "      <th>publisher</th>\n",
       "      <th>count</th>\n",
       "    </tr>\n",
       "  </thead>\n",
       "  <tbody>\n",
       "    <tr>\n",
       "      <th>0</th>\n",
       "      <td>Penguin Books</td>\n",
       "      <td>42</td>\n",
       "    </tr>\n",
       "  </tbody>\n",
       "</table>\n",
       "</div>"
      ],
      "text/plain": [
       "       publisher  count\n",
       "0  Penguin Books     42"
      ]
     },
     "execution_count": 34,
     "metadata": {},
     "output_type": "execute_result"
    }
   ],
   "source": [
    "pd.io.sql.read_sql(query_extra5, con = engine) "
   ]
  },
  {
   "cell_type": "markdown",
   "id": "ea4e184a",
   "metadata": {},
   "source": [
    "**Вывод:** издательство, которое выпустило наибольшее число книг толще 50 страниц - Penguin Books. Оно выпустило 42 книги"
   ]
  },
  {
   "cell_type": "markdown",
   "id": "0d20ef89",
   "metadata": {},
   "source": [
    "## Задание 4 "
   ]
  },
  {
   "cell_type": "markdown",
   "id": "a8a4920a",
   "metadata": {},
   "source": [
    "Определите автора с самой высокой средней оценкой книг — учитывайте только книги с 50 и более оценками"
   ]
  },
  {
   "cell_type": "code",
   "execution_count": 35,
   "id": "3fec63df",
   "metadata": {},
   "outputs": [],
   "source": [
    "query_t4 = '''\n",
    "           SELECT a.author, AVG(r.rating)\n",
    "           FROM authors a\n",
    "           JOIN books b ON a.author_id = b.author_id\n",
    "           JOIN ratings r ON b.book_id = r.book_id\n",
    "           WHERE b.book_id IN (SELECT r.book_id\n",
    "                               FROM ratings r\n",
    "                               GROUP BY r.book_id\n",
    "                               HAVING COUNT(r.rating_id) > 50)\n",
    "           GROUP BY a.author\n",
    "           ORDER BY AVG(r.rating) DESC\n",
    "           LIMIT 5;\n",
    "\n",
    "'''"
   ]
  },
  {
   "cell_type": "code",
   "execution_count": 36,
   "id": "a7832ff9",
   "metadata": {
    "scrolled": false
   },
   "outputs": [
    {
     "data": {
      "text/html": [
       "<div>\n",
       "<style scoped>\n",
       "    .dataframe tbody tr th:only-of-type {\n",
       "        vertical-align: middle;\n",
       "    }\n",
       "\n",
       "    .dataframe tbody tr th {\n",
       "        vertical-align: top;\n",
       "    }\n",
       "\n",
       "    .dataframe thead th {\n",
       "        text-align: right;\n",
       "    }\n",
       "</style>\n",
       "<table border=\"1\" class=\"dataframe\">\n",
       "  <thead>\n",
       "    <tr style=\"text-align: right;\">\n",
       "      <th></th>\n",
       "      <th>author</th>\n",
       "      <th>avg</th>\n",
       "    </tr>\n",
       "  </thead>\n",
       "  <tbody>\n",
       "    <tr>\n",
       "      <th>0</th>\n",
       "      <td>J.K. Rowling/Mary GrandPré</td>\n",
       "      <td>4.287097</td>\n",
       "    </tr>\n",
       "    <tr>\n",
       "      <th>1</th>\n",
       "      <td>Markus Zusak/Cao Xuân Việt Khương</td>\n",
       "      <td>4.264151</td>\n",
       "    </tr>\n",
       "    <tr>\n",
       "      <th>2</th>\n",
       "      <td>J.R.R. Tolkien</td>\n",
       "      <td>4.246914</td>\n",
       "    </tr>\n",
       "    <tr>\n",
       "      <th>3</th>\n",
       "      <td>Louisa May Alcott</td>\n",
       "      <td>4.192308</td>\n",
       "    </tr>\n",
       "    <tr>\n",
       "      <th>4</th>\n",
       "      <td>Rick Riordan</td>\n",
       "      <td>4.080645</td>\n",
       "    </tr>\n",
       "  </tbody>\n",
       "</table>\n",
       "</div>"
      ],
      "text/plain": [
       "                              author       avg\n",
       "0         J.K. Rowling/Mary GrandPré  4.287097\n",
       "1  Markus Zusak/Cao Xuân Việt Khương  4.264151\n",
       "2                     J.R.R. Tolkien  4.246914\n",
       "3                  Louisa May Alcott  4.192308\n",
       "4                       Rick Riordan  4.080645"
      ]
     },
     "execution_count": 36,
     "metadata": {},
     "output_type": "execute_result"
    }
   ],
   "source": [
    "pd.io.sql.read_sql(query_t4, con = engine) "
   ]
  },
  {
   "cell_type": "markdown",
   "id": "aafe5cb9",
   "metadata": {},
   "source": [
    "**Вывод:** автор с самой высокой оценкой книг - Джоан Роулинг, а средняя оценка ее книг составляет 4.29. В топе авторов также находятся Маркус Зусак (со средней оценкой 4.26) и Толкиен - 4.25. Средние оценки по книгам у этих авторов очень близки. "
   ]
  },
  {
   "cell_type": "markdown",
   "id": "69af74d3",
   "metadata": {},
   "source": [
    "## Задание 5"
   ]
  },
  {
   "cell_type": "markdown",
   "id": "6c4b4882",
   "metadata": {},
   "source": [
    "Посчитайте среднее количество обзоров от пользователей, которые поставили больше 50 оценок."
   ]
  },
  {
   "cell_type": "code",
   "execution_count": 37,
   "id": "62989985",
   "metadata": {},
   "outputs": [],
   "source": [
    "query_t5 = '''\n",
    "           SELECT AVG(mean_number)\n",
    "           FROM (SELECT count(review_id) as \"mean_number\" \n",
    "                 FROM reviews\n",
    "                 WHERE username IN (SELECT username\n",
    "                                   FROM ratings\n",
    "                                   GROUP BY username\n",
    "                                   HAVING COUNT(rating) > 50)\n",
    "                 GROUP BY username) as means;\n",
    "'''"
   ]
  },
  {
   "cell_type": "code",
   "execution_count": 38,
   "id": "06d96172",
   "metadata": {},
   "outputs": [
    {
     "data": {
      "text/html": [
       "<div>\n",
       "<style scoped>\n",
       "    .dataframe tbody tr th:only-of-type {\n",
       "        vertical-align: middle;\n",
       "    }\n",
       "\n",
       "    .dataframe tbody tr th {\n",
       "        vertical-align: top;\n",
       "    }\n",
       "\n",
       "    .dataframe thead th {\n",
       "        text-align: right;\n",
       "    }\n",
       "</style>\n",
       "<table border=\"1\" class=\"dataframe\">\n",
       "  <thead>\n",
       "    <tr style=\"text-align: right;\">\n",
       "      <th></th>\n",
       "      <th>avg</th>\n",
       "    </tr>\n",
       "  </thead>\n",
       "  <tbody>\n",
       "    <tr>\n",
       "      <th>0</th>\n",
       "      <td>24.333333</td>\n",
       "    </tr>\n",
       "  </tbody>\n",
       "</table>\n",
       "</div>"
      ],
      "text/plain": [
       "         avg\n",
       "0  24.333333"
      ]
     },
     "execution_count": 38,
     "metadata": {},
     "output_type": "execute_result"
    }
   ],
   "source": [
    "pd.io.sql.read_sql(query_t5, con = engine) "
   ]
  },
  {
   "cell_type": "markdown",
   "id": "d6e40f59",
   "metadata": {},
   "source": [
    "*Дополнительные запросы для анализа*"
   ]
  },
  {
   "cell_type": "code",
   "execution_count": 39,
   "id": "0073ee96",
   "metadata": {},
   "outputs": [],
   "source": [
    "query_extra6 = '''\n",
    "SELECT AVG(number)\n",
    "FROM (SELECT COUNT(review_id) AS \"number\"\n",
    "      FROM reviews\n",
    "      GROUP BY username) AS numbers;\n",
    "'''\n",
    "\n",
    "query_extra7 = '''\n",
    "SELECT AVG(number)\n",
    "FROM (SELECT COUNT(rating_id) AS \"number\"\n",
    "      FROM ratings\n",
    "      GROUP BY username) AS numbers_1\n",
    "'''"
   ]
  },
  {
   "cell_type": "code",
   "execution_count": 40,
   "id": "d8dd3d5c",
   "metadata": {},
   "outputs": [
    {
     "data": {
      "text/html": [
       "<div>\n",
       "<style scoped>\n",
       "    .dataframe tbody tr th:only-of-type {\n",
       "        vertical-align: middle;\n",
       "    }\n",
       "\n",
       "    .dataframe tbody tr th {\n",
       "        vertical-align: top;\n",
       "    }\n",
       "\n",
       "    .dataframe thead th {\n",
       "        text-align: right;\n",
       "    }\n",
       "</style>\n",
       "<table border=\"1\" class=\"dataframe\">\n",
       "  <thead>\n",
       "    <tr style=\"text-align: right;\">\n",
       "      <th></th>\n",
       "      <th>avg</th>\n",
       "    </tr>\n",
       "  </thead>\n",
       "  <tbody>\n",
       "    <tr>\n",
       "      <th>0</th>\n",
       "      <td>17.45625</td>\n",
       "    </tr>\n",
       "  </tbody>\n",
       "</table>\n",
       "</div>"
      ],
      "text/plain": [
       "        avg\n",
       "0  17.45625"
      ]
     },
     "execution_count": 40,
     "metadata": {},
     "output_type": "execute_result"
    }
   ],
   "source": [
    "pd.io.sql.read_sql(query_extra6, con = engine) "
   ]
  },
  {
   "cell_type": "code",
   "execution_count": 41,
   "id": "79e0f6c8",
   "metadata": {},
   "outputs": [
    {
     "data": {
      "text/html": [
       "<div>\n",
       "<style scoped>\n",
       "    .dataframe tbody tr th:only-of-type {\n",
       "        vertical-align: middle;\n",
       "    }\n",
       "\n",
       "    .dataframe tbody tr th {\n",
       "        vertical-align: top;\n",
       "    }\n",
       "\n",
       "    .dataframe thead th {\n",
       "        text-align: right;\n",
       "    }\n",
       "</style>\n",
       "<table border=\"1\" class=\"dataframe\">\n",
       "  <thead>\n",
       "    <tr style=\"text-align: right;\">\n",
       "      <th></th>\n",
       "      <th>avg</th>\n",
       "    </tr>\n",
       "  </thead>\n",
       "  <tbody>\n",
       "    <tr>\n",
       "      <th>0</th>\n",
       "      <td>40.35</td>\n",
       "    </tr>\n",
       "  </tbody>\n",
       "</table>\n",
       "</div>"
      ],
      "text/plain": [
       "     avg\n",
       "0  40.35"
      ]
     },
     "execution_count": 41,
     "metadata": {},
     "output_type": "execute_result"
    }
   ],
   "source": [
    "pd.io.sql.read_sql(query_extra7, con = engine) "
   ]
  },
  {
   "cell_type": "markdown",
   "id": "856e138c",
   "metadata": {},
   "source": [
    "**Вывод:** среднее количество обзоров от пользователей, которые поставили больше 50 оценок, составляет 24. В среднем пользователи оставляют по 17 обзоров и ставят по 40 рейтинговых оценок. "
   ]
  },
  {
   "cell_type": "markdown",
   "id": "c92e390f",
   "metadata": {},
   "source": [
    "## Выводы"
   ]
  },
  {
   "cell_type": "markdown",
   "id": "36a0d1d3",
   "metadata": {},
   "source": [
    "- в базе присутствуют данные о книгах, изданных с 1952 года по 2020. С 2000 года было выпущено более 800 книг (819). Важно, что в последние годы издание книг значительно замедилось: с 2015 до 2020 по данным базы издано всего 3 книги\n",
    "- у книг с наименьшим количество обзоров наивысшая оценку, в то время как у мировых бестселлеров с огромным количеством обзоров оценки в среднем ниже и ничего не говорит о качестве книги. Это вполне может быть объяснимо: книги с небольшим количеством обзоров могут быть недавно вышедшими (а соответственно, оценок у них в целом меньше, за счет чего оценка выше (если одна 5, то и средняя будет 5), в то время как у давно вышедших, популярных книг много разных оценок, как и много отзывов. Или же книги с маленьким количеством обзоров непопулярны, ограничены, направлены на узкий круг читателей\n",
    "- издательство, которое выпустило наибольшее число книг толще 50 страниц - Penguin Books. Оно выпустило 42 книги\n",
    "- автор с самой высокой оценкой книг - Джоан Роулинг, а средняя оценка ее книг составляет 4.29. В топе авторов также находятся Маркус Зусак (со средней оценкой 4.26) и Толкиен - 4.25. Средние оценки по книгам у этих авторов очень близки\n",
    "- среднее количество обзоров от пользователей, которые поставили больше 50 оценок, составляет 24. В среднем пользователи оставляют по 17 обзоров и ставят по 40 рейтинговых оценок."
   ]
  },
  {
   "cell_type": "code",
   "execution_count": null,
   "id": "83f49df4",
   "metadata": {},
   "outputs": [],
   "source": []
  }
 ],
 "metadata": {
  "ExecuteTimeLog": [
   {
    "duration": 9509,
    "start_time": "2022-10-13T06:41:22.428Z"
   },
   {
    "duration": 3,
    "start_time": "2022-10-13T06:41:31.940Z"
   },
   {
    "duration": 11,
    "start_time": "2022-10-13T06:41:31.944Z"
   },
   {
    "duration": 33,
    "start_time": "2022-10-13T06:41:31.957Z"
   },
   {
    "duration": 13,
    "start_time": "2022-10-13T06:41:31.992Z"
   },
   {
    "duration": 14,
    "start_time": "2022-10-13T06:41:32.007Z"
   },
   {
    "duration": 295,
    "start_time": "2022-10-13T06:41:32.023Z"
   },
   {
    "duration": 87,
    "start_time": "2022-10-13T06:41:32.321Z"
   },
   {
    "duration": 93,
    "start_time": "2022-10-13T06:41:32.411Z"
   },
   {
    "duration": 83,
    "start_time": "2022-10-13T06:41:32.507Z"
   },
   {
    "duration": 84,
    "start_time": "2022-10-13T06:41:32.592Z"
   },
   {
    "duration": 2,
    "start_time": "2022-10-13T06:41:32.678Z"
   },
   {
    "duration": 83,
    "start_time": "2022-10-13T06:41:32.682Z"
   },
   {
    "duration": 5,
    "start_time": "2022-10-13T06:41:32.770Z"
   },
   {
    "duration": 89,
    "start_time": "2022-10-13T06:41:32.777Z"
   },
   {
    "duration": 76,
    "start_time": "2022-10-13T06:41:32.868Z"
   },
   {
    "duration": 2,
    "start_time": "2022-10-13T06:42:18.329Z"
   },
   {
    "duration": 86,
    "start_time": "2022-10-13T06:42:30.398Z"
   },
   {
    "duration": 3,
    "start_time": "2022-10-13T06:43:02.003Z"
   },
   {
    "duration": 76,
    "start_time": "2022-10-13T06:43:02.672Z"
   },
   {
    "duration": 79,
    "start_time": "2022-10-13T06:43:05.470Z"
   },
   {
    "duration": 4,
    "start_time": "2022-10-13T06:44:37.517Z"
   },
   {
    "duration": 105,
    "start_time": "2022-10-13T06:44:58.012Z"
   },
   {
    "duration": 107,
    "start_time": "2022-10-13T06:45:28.256Z"
   },
   {
    "duration": 2,
    "start_time": "2022-10-13T06:46:49.717Z"
   },
   {
    "duration": 102,
    "start_time": "2022-10-13T06:47:01.651Z"
   },
   {
    "duration": 804,
    "start_time": "2022-10-13T06:47:09.083Z"
   },
   {
    "duration": 3,
    "start_time": "2022-10-13T06:48:02.773Z"
   },
   {
    "duration": 3,
    "start_time": "2022-10-13T06:48:21.317Z"
   },
   {
    "duration": 3,
    "start_time": "2022-10-13T06:50:42.684Z"
   },
   {
    "duration": 5865,
    "start_time": "2022-10-13T06:50:43.824Z"
   },
   {
    "duration": 3,
    "start_time": "2022-10-13T06:51:10.270Z"
   },
   {
    "duration": 86,
    "start_time": "2022-10-13T06:51:10.998Z"
   },
   {
    "duration": 3,
    "start_time": "2022-10-13T06:53:32.528Z"
   },
   {
    "duration": 138,
    "start_time": "2022-10-13T06:53:33.427Z"
   },
   {
    "duration": 3,
    "start_time": "2022-10-13T06:54:16.236Z"
   },
   {
    "duration": 98,
    "start_time": "2022-10-13T06:54:17.146Z"
   },
   {
    "duration": 91,
    "start_time": "2022-10-13T06:54:26.577Z"
   },
   {
    "duration": 12228,
    "start_time": "2022-10-13T06:55:46.282Z"
   },
   {
    "duration": 3,
    "start_time": "2022-10-13T06:55:58.513Z"
   },
   {
    "duration": 24,
    "start_time": "2022-10-13T06:55:58.518Z"
   },
   {
    "duration": 34,
    "start_time": "2022-10-13T06:55:58.544Z"
   },
   {
    "duration": 13,
    "start_time": "2022-10-13T06:55:58.581Z"
   },
   {
    "duration": 17,
    "start_time": "2022-10-13T06:55:58.595Z"
   },
   {
    "duration": 279,
    "start_time": "2022-10-13T06:55:58.613Z"
   },
   {
    "duration": 79,
    "start_time": "2022-10-13T06:55:58.894Z"
   },
   {
    "duration": 77,
    "start_time": "2022-10-13T06:55:58.975Z"
   },
   {
    "duration": 77,
    "start_time": "2022-10-13T06:55:59.054Z"
   },
   {
    "duration": 77,
    "start_time": "2022-10-13T06:55:59.133Z"
   },
   {
    "duration": 3,
    "start_time": "2022-10-13T06:55:59.212Z"
   },
   {
    "duration": 104,
    "start_time": "2022-10-13T06:55:59.217Z"
   },
   {
    "duration": 2,
    "start_time": "2022-10-13T06:55:59.324Z"
   },
   {
    "duration": 93,
    "start_time": "2022-10-13T06:55:59.328Z"
   },
   {
    "duration": 75,
    "start_time": "2022-10-13T06:55:59.423Z"
   },
   {
    "duration": 2,
    "start_time": "2022-10-13T06:55:59.500Z"
   },
   {
    "duration": 81,
    "start_time": "2022-10-13T06:55:59.504Z"
   },
   {
    "duration": 3,
    "start_time": "2022-10-13T06:55:59.586Z"
   },
   {
    "duration": 117,
    "start_time": "2022-10-13T06:55:59.591Z"
   },
   {
    "duration": 3,
    "start_time": "2022-10-13T06:55:59.710Z"
   },
   {
    "duration": 89,
    "start_time": "2022-10-13T06:55:59.714Z"
   },
   {
    "duration": 3,
    "start_time": "2022-10-13T06:55:59.805Z"
   },
   {
    "duration": 108,
    "start_time": "2022-10-13T06:55:59.810Z"
   },
   {
    "duration": 3,
    "start_time": "2022-10-13T06:55:59.919Z"
   },
   {
    "duration": 94,
    "start_time": "2022-10-13T06:55:59.923Z"
   },
   {
    "duration": 86,
    "start_time": "2022-10-13T06:56:00.019Z"
   },
   {
    "duration": 3,
    "start_time": "2022-10-13T06:56:00.106Z"
   },
   {
    "duration": 94,
    "start_time": "2022-10-13T06:56:00.111Z"
   },
   {
    "duration": 3,
    "start_time": "2022-10-13T06:56:00.207Z"
   },
   {
    "duration": 120,
    "start_time": "2022-10-13T06:56:00.212Z"
   },
   {
    "duration": 3,
    "start_time": "2022-10-13T06:56:00.333Z"
   },
   {
    "duration": 99,
    "start_time": "2022-10-13T06:56:00.337Z"
   },
   {
    "duration": 3,
    "start_time": "2022-10-13T06:56:00.437Z"
   },
   {
    "duration": 113,
    "start_time": "2022-10-13T06:56:00.441Z"
   },
   {
    "duration": 6,
    "start_time": "2022-10-13T06:56:00.555Z"
   },
   {
    "duration": 134,
    "start_time": "2022-10-13T06:56:00.563Z"
   },
   {
    "duration": 85,
    "start_time": "2022-10-13T06:56:00.700Z"
   },
   {
    "duration": 10,
    "start_time": "2022-10-14T09:16:33.360Z"
   },
   {
    "duration": 38,
    "start_time": "2022-10-14T09:16:37.020Z"
   },
   {
    "duration": 9070,
    "start_time": "2022-10-14T09:16:44.965Z"
   },
   {
    "duration": 3,
    "start_time": "2022-10-14T09:16:54.037Z"
   },
   {
    "duration": 11,
    "start_time": "2022-10-14T09:16:54.041Z"
   },
   {
    "duration": 19,
    "start_time": "2022-10-14T09:16:54.054Z"
   },
   {
    "duration": 10,
    "start_time": "2022-10-14T09:16:54.075Z"
   },
   {
    "duration": 16,
    "start_time": "2022-10-14T09:16:54.087Z"
   },
   {
    "duration": 81,
    "start_time": "2022-10-14T09:16:54.105Z"
   },
   {
    "duration": 10,
    "start_time": "2022-10-14T09:16:54.187Z"
   },
   {
    "duration": 20,
    "start_time": "2022-10-14T09:16:54.199Z"
   },
   {
    "duration": 22,
    "start_time": "2022-10-14T09:16:54.220Z"
   },
   {
    "duration": 22,
    "start_time": "2022-10-14T09:16:54.243Z"
   },
   {
    "duration": 3,
    "start_time": "2022-10-14T09:16:54.267Z"
   },
   {
    "duration": 34,
    "start_time": "2022-10-14T09:16:54.271Z"
   },
   {
    "duration": 3,
    "start_time": "2022-10-14T09:16:54.309Z"
   },
   {
    "duration": 29,
    "start_time": "2022-10-14T09:16:54.314Z"
   },
   {
    "duration": 21,
    "start_time": "2022-10-14T09:16:54.345Z"
   },
   {
    "duration": 15,
    "start_time": "2022-10-14T09:16:54.368Z"
   },
   {
    "duration": 21,
    "start_time": "2022-10-14T09:16:54.385Z"
   },
   {
    "duration": 12,
    "start_time": "2022-10-14T09:16:54.407Z"
   },
   {
    "duration": 48,
    "start_time": "2022-10-14T09:16:54.420Z"
   },
   {
    "duration": 2,
    "start_time": "2022-10-14T09:16:54.470Z"
   },
   {
    "duration": 22,
    "start_time": "2022-10-14T09:16:54.474Z"
   },
   {
    "duration": 4,
    "start_time": "2022-10-14T09:16:54.498Z"
   },
   {
    "duration": 29,
    "start_time": "2022-10-14T09:16:54.503Z"
   },
   {
    "duration": 2,
    "start_time": "2022-10-14T09:16:59.428Z"
   },
   {
    "duration": 27,
    "start_time": "2022-10-14T09:17:00.428Z"
   },
   {
    "duration": 3,
    "start_time": "2022-10-14T09:17:27.869Z"
   },
   {
    "duration": 125,
    "start_time": "2022-10-14T09:17:28.520Z"
   },
   {
    "duration": 2,
    "start_time": "2022-10-14T09:17:50.229Z"
   },
   {
    "duration": 31,
    "start_time": "2022-10-14T09:17:50.867Z"
   },
   {
    "duration": 4,
    "start_time": "2022-10-14T09:17:56.029Z"
   },
   {
    "duration": 27,
    "start_time": "2022-10-14T09:17:57.807Z"
   },
   {
    "duration": 2,
    "start_time": "2022-10-14T09:18:14.768Z"
   },
   {
    "duration": 27,
    "start_time": "2022-10-14T09:18:15.568Z"
   },
   {
    "duration": 2,
    "start_time": "2022-10-14T09:22:44.851Z"
   },
   {
    "duration": 25,
    "start_time": "2022-10-14T09:22:45.714Z"
   },
   {
    "duration": 27,
    "start_time": "2022-10-14T09:22:48.130Z"
   },
   {
    "duration": 6077,
    "start_time": "2022-10-14T23:11:05.509Z"
   },
   {
    "duration": 3,
    "start_time": "2022-10-14T23:11:11.590Z"
   },
   {
    "duration": 10,
    "start_time": "2022-10-14T23:11:11.596Z"
   },
   {
    "duration": 33,
    "start_time": "2022-10-14T23:11:11.609Z"
   },
   {
    "duration": 13,
    "start_time": "2022-10-14T23:11:11.644Z"
   },
   {
    "duration": 21,
    "start_time": "2022-10-14T23:11:11.659Z"
   },
   {
    "duration": 296,
    "start_time": "2022-10-14T23:11:11.682Z"
   },
   {
    "duration": 78,
    "start_time": "2022-10-14T23:11:11.979Z"
   },
   {
    "duration": 76,
    "start_time": "2022-10-14T23:11:12.059Z"
   },
   {
    "duration": 77,
    "start_time": "2022-10-14T23:11:12.138Z"
   },
   {
    "duration": 80,
    "start_time": "2022-10-14T23:11:12.216Z"
   },
   {
    "duration": 3,
    "start_time": "2022-10-14T23:11:12.298Z"
   },
   {
    "duration": 129,
    "start_time": "2022-10-14T23:11:12.303Z"
   },
   {
    "duration": 4,
    "start_time": "2022-10-14T23:11:12.434Z"
   },
   {
    "duration": 89,
    "start_time": "2022-10-14T23:11:12.440Z"
   },
   {
    "duration": 82,
    "start_time": "2022-10-14T23:11:12.531Z"
   },
   {
    "duration": 4,
    "start_time": "2022-10-14T23:11:12.615Z"
   },
   {
    "duration": 98,
    "start_time": "2022-10-14T23:11:12.621Z"
   },
   {
    "duration": 3,
    "start_time": "2022-10-14T23:11:12.721Z"
   },
   {
    "duration": 120,
    "start_time": "2022-10-14T23:11:12.726Z"
   },
   {
    "duration": 3,
    "start_time": "2022-10-14T23:11:12.848Z"
   },
   {
    "duration": 81,
    "start_time": "2022-10-14T23:11:12.853Z"
   },
   {
    "duration": 2,
    "start_time": "2022-10-14T23:11:12.936Z"
   },
   {
    "duration": 106,
    "start_time": "2022-10-14T23:11:12.940Z"
   },
   {
    "duration": 209,
    "start_time": "2022-10-14T23:11:13.048Z"
   },
   {
    "duration": 0,
    "start_time": "2022-10-14T23:11:13.259Z"
   },
   {
    "duration": 0,
    "start_time": "2022-10-14T23:11:13.261Z"
   },
   {
    "duration": 0,
    "start_time": "2022-10-14T23:11:13.262Z"
   },
   {
    "duration": 0,
    "start_time": "2022-10-14T23:11:13.263Z"
   },
   {
    "duration": 0,
    "start_time": "2022-10-14T23:11:13.264Z"
   },
   {
    "duration": 0,
    "start_time": "2022-10-14T23:11:13.266Z"
   },
   {
    "duration": 0,
    "start_time": "2022-10-14T23:11:13.267Z"
   },
   {
    "duration": 0,
    "start_time": "2022-10-14T23:11:13.268Z"
   },
   {
    "duration": 0,
    "start_time": "2022-10-14T23:11:13.270Z"
   },
   {
    "duration": 0,
    "start_time": "2022-10-14T23:11:13.270Z"
   },
   {
    "duration": 0,
    "start_time": "2022-10-14T23:11:13.272Z"
   },
   {
    "duration": 0,
    "start_time": "2022-10-14T23:11:13.273Z"
   },
   {
    "duration": 0,
    "start_time": "2022-10-14T23:11:13.275Z"
   },
   {
    "duration": 0,
    "start_time": "2022-10-14T23:11:13.276Z"
   },
   {
    "duration": 0,
    "start_time": "2022-10-14T23:11:13.277Z"
   },
   {
    "duration": 0,
    "start_time": "2022-10-14T23:11:13.278Z"
   },
   {
    "duration": 141,
    "start_time": "2022-10-14T23:11:32.663Z"
   },
   {
    "duration": 142,
    "start_time": "2022-10-14T23:11:47.736Z"
   },
   {
    "duration": 135,
    "start_time": "2022-10-14T23:11:58.997Z"
   },
   {
    "duration": 328,
    "start_time": "2022-10-14T23:12:08.592Z"
   },
   {
    "duration": 5909,
    "start_time": "2022-10-14T23:15:41.967Z"
   },
   {
    "duration": 3,
    "start_time": "2022-10-14T23:15:47.878Z"
   },
   {
    "duration": 16,
    "start_time": "2022-10-14T23:15:47.882Z"
   },
   {
    "duration": 16,
    "start_time": "2022-10-14T23:15:47.900Z"
   },
   {
    "duration": 10,
    "start_time": "2022-10-14T23:15:47.917Z"
   },
   {
    "duration": 21,
    "start_time": "2022-10-14T23:15:47.928Z"
   },
   {
    "duration": 243,
    "start_time": "2022-10-14T23:15:47.951Z"
   },
   {
    "duration": 72,
    "start_time": "2022-10-14T23:15:48.196Z"
   },
   {
    "duration": 71,
    "start_time": "2022-10-14T23:15:48.269Z"
   },
   {
    "duration": 72,
    "start_time": "2022-10-14T23:15:48.344Z"
   },
   {
    "duration": 72,
    "start_time": "2022-10-14T23:15:48.418Z"
   },
   {
    "duration": 3,
    "start_time": "2022-10-14T23:15:48.492Z"
   },
   {
    "duration": 96,
    "start_time": "2022-10-14T23:15:48.497Z"
   },
   {
    "duration": 3,
    "start_time": "2022-10-14T23:15:48.595Z"
   },
   {
    "duration": 80,
    "start_time": "2022-10-14T23:15:48.600Z"
   },
   {
    "duration": 71,
    "start_time": "2022-10-14T23:15:48.682Z"
   },
   {
    "duration": 3,
    "start_time": "2022-10-14T23:15:48.755Z"
   },
   {
    "duration": 83,
    "start_time": "2022-10-14T23:15:48.759Z"
   },
   {
    "duration": 4,
    "start_time": "2022-10-14T23:15:48.843Z"
   },
   {
    "duration": 124,
    "start_time": "2022-10-14T23:15:48.848Z"
   },
   {
    "duration": 2,
    "start_time": "2022-10-14T23:15:48.974Z"
   },
   {
    "duration": 91,
    "start_time": "2022-10-14T23:15:48.978Z"
   },
   {
    "duration": 4,
    "start_time": "2022-10-14T23:15:49.070Z"
   },
   {
    "duration": 109,
    "start_time": "2022-10-14T23:15:49.075Z"
   },
   {
    "duration": 356,
    "start_time": "2022-10-14T23:15:49.186Z"
   },
   {
    "duration": 3,
    "start_time": "2022-10-14T23:15:49.543Z"
   },
   {
    "duration": 90,
    "start_time": "2022-10-14T23:15:49.553Z"
   },
   {
    "duration": 3,
    "start_time": "2022-10-14T23:15:49.647Z"
   },
   {
    "duration": 97,
    "start_time": "2022-10-14T23:15:49.652Z"
   },
   {
    "duration": 84,
    "start_time": "2022-10-14T23:15:49.750Z"
   },
   {
    "duration": 3,
    "start_time": "2022-10-14T23:15:49.835Z"
   },
   {
    "duration": 75,
    "start_time": "2022-10-14T23:15:49.840Z"
   },
   {
    "duration": 3,
    "start_time": "2022-10-14T23:15:49.916Z"
   },
   {
    "duration": 93,
    "start_time": "2022-10-14T23:15:49.921Z"
   },
   {
    "duration": 2,
    "start_time": "2022-10-14T23:15:50.016Z"
   },
   {
    "duration": 90,
    "start_time": "2022-10-14T23:15:50.020Z"
   },
   {
    "duration": 3,
    "start_time": "2022-10-14T23:15:50.112Z"
   },
   {
    "duration": 91,
    "start_time": "2022-10-14T23:15:50.117Z"
   },
   {
    "duration": 3,
    "start_time": "2022-10-14T23:15:50.210Z"
   },
   {
    "duration": 107,
    "start_time": "2022-10-14T23:15:50.215Z"
   },
   {
    "duration": 72,
    "start_time": "2022-10-14T23:15:50.324Z"
   }
  ],
  "kernelspec": {
   "display_name": "Python 3",
   "language": "python",
   "name": "python3"
  },
  "language_info": {
   "codemirror_mode": {
    "name": "ipython",
    "version": 3
   },
   "file_extension": ".py",
   "mimetype": "text/x-python",
   "name": "python",
   "nbconvert_exporter": "python",
   "pygments_lexer": "ipython3",
   "version": "3.8.8"
  },
  "toc": {
   "base_numbering": 1,
   "nav_menu": {},
   "number_sections": true,
   "sideBar": true,
   "skip_h1_title": true,
   "title_cell": "Table of Contents",
   "title_sidebar": "Contents",
   "toc_cell": true,
   "toc_position": {},
   "toc_section_display": true,
   "toc_window_display": true
  }
 },
 "nbformat": 4,
 "nbformat_minor": 5
}
